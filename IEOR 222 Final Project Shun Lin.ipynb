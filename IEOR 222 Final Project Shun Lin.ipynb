{
 "cells": [
  {
   "cell_type": "markdown",
   "metadata": {
    "colab_type": "text",
    "id": "_Cz4JmIgTwg2"
   },
   "source": [
    "# IEOR 222 Final Project: RL on Optimal Order Execution Strategy\n",
    "\n",
    "# Shun Lin\n",
    "\n",
    "# 5/11/19"
   ]
  },
  {
   "cell_type": "markdown",
   "metadata": {
    "colab_type": "text",
    "id": "K0tkR8JJTwg4"
   },
   "source": [
    "### Background and Goal"
   ]
  },
  {
   "cell_type": "markdown",
   "metadata": {
    "colab_type": "text",
    "id": "J1SK8wLnTwg4"
   },
   "source": [
    "### Background\n",
    "\n",
    "**Reinforcement learning** (RL) is an area of machine learning concerned with how software agents ought to take actions in an environment so as to maximize some notion of cumulative reward. Reinforcement learning is considered as one of three machine learning paradigms, alongside supervised learning and unsupervised learning.\n",
    "\n",
    "### Diagram for Reinforcement Learning\n",
    "\n",
    "![alt text](https://www.kdnuggets.com/images/reinforcement-learning-fig1-700.jpg)\n",
    "\n",
    "**Q-learning** is a model-free reinforcement learning algorithm. The goal of Q-learning is to learn a policy, which tells an agent what action to take under what circumstances. It does not require a model of the environment, and it can handle problems with stochastic transitions and rewards, without requiring adaptations.\n",
    "\n",
    "### Q-Learning Equation\n",
    "\n",
    "![alt text](https://cdn-images-1.medium.com/max/1600/0*q8Dnp4guvDD230if.)\n",
    "\n",
    "### Goal\n",
    "\n",
    "The goal of this project is to create use reinforcement learning algorithm, specifically **Q-Learning**, on Optimal Order Execution Strategy. We want to understand what is the relationship between the price impact model defined by Bertsimas & Lo (1998) and the optimal order execution. Although we want to use the stock price's data from the real world (for example Apple's AAPL stock) but we should first synthetize stock price data first using the assumptions from the price impact model and build a reinforcement learning model that will learn the parameters for the price impact model that we defined.\n",
    "\n",
    "### Bertsimas & Lo (1998) Price Impact Model\n",
    "\n",
    "This is a discrete time model\n",
    "\n",
    "$P_t = P_{t-1} + \\epsilon_t + \\theta S_t$\n",
    "\n",
    "### Three types of price impact model\n",
    "\n",
    "1. Linear permanent price impact\n",
    "\n",
    "  $P_t = P_{t-1} + \\epsilon_t + \\theta S_t$\n",
    "  \n",
    "2. Quadratic temporary price impact\n",
    "\n",
    "  $P_t = P_{0} + \\epsilon_t + \\theta_1 S_t + \\theta_2 S_t^2 $\n",
    "  \n",
    "3. Quadratic permanent price impact\n",
    "\n",
    "  $P_t = P_{t-1} + \\epsilon_t + \\theta_1 S_t + \\theta_2 S_t^2 $\n",
    "\n",
    "4. Linear transient price impact\n",
    "\n",
    "    $P_t = P_0 + \\sum_{s=0}^{t}  \\epsilon_s + \\sum_{s=0}^{t} e^{\\alpha(s-t)} \\theta_1 S_t  $\n",
    "\n",
    "\n",
    "In this project, I will use the Q-learning (reinforcement learning) to find the optimal strategy under those price impact models.\n",
    "\n",
    "### References\n",
    "\n",
    "1. X.Guo. Optimal placement in a limit order book\n",
    "2. J. Gatheral. No-dynamic-arbitrage and market impact\n",
    "3. J. Gatheral. Dynamical models of market Impact and algorithms for order execution\n",
    "4. B. Bouchard. Optimal control of trading algorithms: a general impulse control approach\n",
    "5. D. Bertsimas. Optimal control of execution costs"
   ]
  },
  {
   "cell_type": "markdown",
   "metadata": {
    "colab_type": "text",
    "id": "r8eMiWSiTwg5"
   },
   "source": [
    "## (0) Setup and Imports"
   ]
  },
  {
   "cell_type": "code",
   "execution_count": 0,
   "metadata": {
    "colab": {},
    "colab_type": "code",
    "id": "gp3Y3q9qTwg6"
   },
   "outputs": [],
   "source": [
    "# this cell is for all the imports neede for this notebook\n",
    "import numpy as np\n",
    "import random\n",
    "import math\n",
    "import copy\n",
    "import matplotlib.pyplot as plt\n",
    "\n",
    "import datetime\n",
    "from dateutil.relativedelta import relativedelta"
   ]
  },
  {
   "cell_type": "markdown",
   "metadata": {
    "colab_type": "text",
    "id": "3d-VrhEATwg9"
   },
   "source": [
    "## (1) Synthetic Price Movements Generation"
   ]
  },
  {
   "cell_type": "markdown",
   "metadata": {
    "colab_type": "text",
    "id": "CHZAmirETwg-"
   },
   "source": [
    "To synthetize price movements, we are setting $\\theta$ and then later have our R.L. model to learn it."
   ]
  },
  {
   "cell_type": "markdown",
   "metadata": {
    "colab_type": "text",
    "id": "aUNRJe4jTwg_"
   },
   "source": [
    "### (1.1) Environment Specification"
   ]
  },
  {
   "cell_type": "code",
   "execution_count": 0,
   "metadata": {
    "colab": {},
    "colab_type": "code",
    "id": "idRx3qkGTwg_"
   },
   "outputs": [],
   "source": [
    "# This cell contains the parameters for our environment\n",
    "\n",
    "# learning rate\n",
    "alpha = 0.9\n",
    "\n",
    "# theta we trying to learn using RL\n",
    "theta = 2 * 10 ** -3\n",
    "\n",
    "# time period of our model\n",
    "T = 5\n",
    "\n",
    "# initial price of stock\n",
    "P_0 = 100\n",
    "\n",
    "# number of shares we want to sell\n",
    "total_shares = 5000"
   ]
  },
  {
   "cell_type": "markdown",
   "metadata": {
    "colab_type": "text",
    "id": "F1m5Px63TwhC"
   },
   "source": [
    "For the error term of our equation we will be using the normal gussian noise. ```np.random.normal```"
   ]
  },
  {
   "cell_type": "markdown",
   "metadata": {
    "colab_type": "text",
    "id": "RytveYxWTwhD"
   },
   "source": [
    "### (1.2) Benchmark (Naive) Approach\n",
    "\n",
    "The first stimuation we will do is to buy equal amount of share at each time step ($50000 / 10 = 5000$) shares and we will compute the cost that it takes for us to sell 100000 shares using this approach."
   ]
  },
  {
   "cell_type": "code",
   "execution_count": 222,
   "metadata": {
    "colab": {
     "base_uri": "https://localhost:8080/",
     "height": 51
    },
    "colab_type": "code",
    "executionInfo": {
     "elapsed": 482,
     "status": "ok",
     "timestamp": 1557633517681,
     "user": {
      "displayName": "SHUN LIN",
      "photoUrl": "https://lh4.googleusercontent.com/-pkp40ccE7So/AAAAAAAAAAI/AAAAAAAAAU4/Upp1QcV6fHs/s64/photo.jpg",
      "userId": "16137932526864003348"
     },
     "user_tz": 420
    },
    "id": "89w56eopTwhD",
    "outputId": "db7893bd-8311-4562-8a49-2f8d3040852a"
   },
   "outputs": [
    {
     "name": "stdout",
     "output_type": "stream",
     "text": [
      "Total price of selling 5,000 shares: $548928.08\n",
      "Average price per share: $91.49\n"
     ]
    }
   ],
   "source": [
    "cost = 0\n",
    "\n",
    "# initiailze P_t to be the initial price\n",
    "P_t = P_0\n",
    "\n",
    "for i in range(T):\n",
    "    \n",
    "    # update the price of the stock base on the linear price impact model\n",
    "    noise = np.random.normal()\n",
    "    P_t = P_t + noise + theta * -((total_shares / T))\n",
    "    \n",
    "    # add the cost of purchasing shares\n",
    "    cost += P_t * (total_shares / T)\n",
    "\n",
    "print(\"Total price of selling 5,000 shares: $%.2f\" % cost)\n",
    "print(\"Average price per share: $%.2f\" % (cost / total_shares))"
   ]
  },
  {
   "cell_type": "markdown",
   "metadata": {
    "colab_type": "text",
    "id": "gvuobpjzTwhJ"
   },
   "source": [
    "Now let's stimute many naive approach and plot out the graph to see the relationship of linear price impact."
   ]
  },
  {
   "cell_type": "code",
   "execution_count": 0,
   "metadata": {
    "colab": {},
    "colab_type": "code",
    "id": "j3-zci96TwhL"
   },
   "outputs": [],
   "source": [
    "# this is a helper function for naive solution\n",
    "def naive_solution(P_0, total_shares, T):\n",
    "    \n",
    "    cost = 0\n",
    "    \n",
    "    # initiailze P_t to be the initial price\n",
    "    num_share_per_t = (total_shares / T)\n",
    "    \n",
    "    P = [0] * T\n",
    "    P_t = P_0\n",
    "\n",
    "    for i in range(T):\n",
    "\n",
    "        # update the price of the stock base on the linear price impact model\n",
    "        noise = np.random.normal()\n",
    "        P_t = P_t + noise + theta * -num_share_per_t\n",
    "        \n",
    "        # add the cost of purchasing 5000 shares\n",
    "        P[i] = P_t\n",
    "        cost += P_t * num_share_per_t\n",
    "    \n",
    "    cost_per_share = cost / total_shares\n",
    "    return cost_per_share, P"
   ]
  },
  {
   "cell_type": "code",
   "execution_count": 0,
   "metadata": {
    "colab": {},
    "colab_type": "code",
    "id": "5RVG8v5hTwhP"
   },
   "outputs": [],
   "source": [
    "num_stimuation = 10000\n",
    "costs_per_share = [0] * num_stimuation\n",
    "Ps = [0] * num_stimuation\n",
    "for j in range(num_stimuation):\n",
    "    cost, P = naive_solution(P_0, total_shares, T)\n",
    "    costs_per_share[j] = cost\n",
    "    Ps[j] = P"
   ]
  },
  {
   "cell_type": "code",
   "execution_count": 225,
   "metadata": {
    "colab": {
     "base_uri": "https://localhost:8080/",
     "height": 298
    },
    "colab_type": "code",
    "executionInfo": {
     "elapsed": 614,
     "status": "ok",
     "timestamp": 1557633540619,
     "user": {
      "displayName": "SHUN LIN",
      "photoUrl": "https://lh4.googleusercontent.com/-pkp40ccE7So/AAAAAAAAAAI/AAAAAAAAAU4/Upp1QcV6fHs/s64/photo.jpg",
      "userId": "16137932526864003348"
     },
     "user_tz": 420
    },
    "id": "cgZAw-hxTwhc",
    "outputId": "54ca105e-8e30-4214-f5cb-2334138e9dd7"
   },
   "outputs": [
    {
     "data": {
      "image/png": "[encoded data removed]",
      "text/plain": [
       "<Figure size 432x288 with 1 Axes>"
      ]
     },
     "metadata": {
      "tags": []
     },
     "output_type": "display_data"
    },
    {
     "name": "stdout",
     "output_type": "stream",
     "text": [
      "The median cost per share is $92.82\n"
     ]
    }
   ],
   "source": [
    "plt.boxplot(costs_per_share)\n",
    "plt.title(\"cost per share using naive approach\")\n",
    "plt.ylabel(\"price\")\n",
    "plt.show()\n",
    "print(\"The median cost per share is $%.2f\" % np.median(costs_per_share))"
   ]
  },
  {
   "cell_type": "markdown",
   "metadata": {
    "colab_type": "text",
    "id": "GLeJZ59CTwhi"
   },
   "source": [
    "As we can see from the graph above, the naive approach (splitting the sale of stock evenly among the 5 period, will incur a profit of \\\\$92.82 when we run 10000 trials on the same parameters, which is lower than the initial $P_0$ of \\$100."
   ]
  },
  {
   "cell_type": "code",
   "execution_count": 226,
   "metadata": {
    "colab": {
     "base_uri": "https://localhost:8080/",
     "height": 295
    },
    "colab_type": "code",
    "executionInfo": {
     "elapsed": 764,
     "status": "ok",
     "timestamp": 1557633543006,
     "user": {
      "displayName": "SHUN LIN",
      "photoUrl": "https://lh4.googleusercontent.com/-pkp40ccE7So/AAAAAAAAAAI/AAAAAAAAAU4/Upp1QcV6fHs/s64/photo.jpg",
      "userId": "16137932526864003348"
     },
     "user_tz": 420
    },
    "id": "0N-V6NUiTwhj",
    "outputId": "0a8b5e77-a93e-4ab6-ce8b-505d182acd63"
   },
   "outputs": [
    {
     "data": {
      "image/png": "[encoded data removed]",
      "text/plain": [
       "<Figure size 432x288 with 1 Axes>"
      ]
     },
     "metadata": {
      "tags": []
     },
     "output_type": "display_data"
    }
   ],
   "source": [
    "x = np.arange(0, 5)\n",
    "y = np.asarray(Ps[0:5])\n",
    "plt.plot(x, y.T)\n",
    "plt.xticks(np.arange(min(x), max(x)+1, 1.0))\n",
    "plt.title(\"Price of the stock in each time period\")\n",
    "plt.ylabel(\"Stock price\")\n",
    "plt.xlabel(\"time\")\n",
    "plt.show()"
   ]
  },
  {
   "cell_type": "markdown",
   "metadata": {
    "colab_type": "text",
    "id": "JPYO6-rSTwhr"
   },
   "source": [
    "\n",
    "<br/>\n",
    "<br/>\n",
    "In the above cell we have plot 5 price changes over the stimuation time period (T=5) and we can see that when we split thesell of the stock price evenly throughout the course of 5 time period the stock price goes down in each time period in expectation due to the linear price impact model. In those stimulations we can see that the effect of the price shock, or the error term, can sometimes upset the effect of the price impact of stock sale and cause the stock price to go up."
   ]
  },
  {
   "cell_type": "markdown",
   "metadata": {
    "colab_type": "text",
    "id": "CrKsiUFkTwhs"
   },
   "source": [
    "## (2) Q-Learning on Linear Price Impact Model\n",
    "\n",
    "In this section I will stimulate Q-Learning on the simple linear price impact model to find the optimal price execution strategy. In the literature, we are expected to see that the optimal price execution strategy is very similiar to that of naive approach of spliting the purchase evenly among all time period.\n",
    "\n",
    "In this section, we will assume that the enviornment allows the order to be executed with certainty, thus making the transfer matrix of this problem **deterministic**. If time permits, we will also explore the problem where the order may not be fulfilled and thus making the transition matrix **stochastic**.\n",
    "\n",
    "The **reward** for this problem is defined **dynamically**. The **reward** is the average price paid per share for the remaining time using optimal strategy compare to the current price.\n",
    "\n",
    "$P_t = P_{t-1} + \\epsilon_t + \\theta S_t$\n",
    "\n",
    "$R(S_{t,w}, A)$ means the action taken at time t with w remining dollar\n",
    "\n",
    "$R(S_{t,w}, A)= $ number of stock sold $ *$  price of stock"
   ]
  },
  {
   "cell_type": "markdown",
   "metadata": {
    "colab_type": "text",
    "id": "PZhhPWcG9qc2"
   },
   "source": [
    "The cell below is learning the Q-matrix by iterating through all the possible selling strategy within the time period (given that we can only sell in thousands and have 5 time period)."
   ]
  },
  {
   "cell_type": "code",
   "execution_count": 0,
   "metadata": {
    "colab": {},
    "colab_type": "code",
    "id": "n2xmpxbLWcJX"
   },
   "outputs": [],
   "source": [
    "'''\n",
    "inputs definition:\n",
    "  total_shares is the total amount of shares we want to sell\n",
    "  P_0 is the initial price\n",
    "  T is the time period we want to sell the shares we have\n",
    "  alpha is the constant for learning rate\n",
    "  theta is the price impact constant\n",
    "  gamma is the discount rate\n",
    "  num_iter is the iteration we want to iterate through the possible paths\n",
    "  \n",
    "  price_func is a function that takes in the following inputs and output\n",
    "    the price of stock at next time step\n",
    "'''\n",
    "def Q_learning(total_shares, P_0, T, alpha, theta1, theta2, gamma, num_iter, price_func):\n",
    "  \n",
    "  start_time = datetime.datetime.now()\n",
    "\n",
    "  # in each time step an agent can sell a multiple of 1000s of share of the stock\n",
    "  # but at the end of T=10 the agent most have 5000 stocks sold\n",
    "  actions = np.arange(0, int(total_shares / 1000 + 1))\n",
    "  \n",
    "  # the states are defined as time and the remining stock that we need to purchase\n",
    "  # the columns index of the states indicates time and the row index of the states\n",
    "  # indicates the amount remaining\n",
    "  # states[i][j] means that at time i, there are j * 1000 shares remaind that\n",
    "  # need to be purchased\n",
    "  num_col = T\n",
    "  num_row = total_shares // 1000 + 1\n",
    "  states = np.zeros((num_col, num_row))\n",
    "\n",
    "  # initilize the Q matrix, which has the dimension of\n",
    "  # (num_states, num_actions) and num_states has shape of \n",
    "  # (T, total_shares // 1000) and num_actions = num_row\n",
    "  Q = np.zeros((num_col, num_row, num_row))\n",
    "\n",
    "  # R is a reward matrix that store the RUNNING AVERAGE reward\n",
    "  # gathered by the trials\n",
    "  R = np.zeros_like(Q)\n",
    "\n",
    "  # counts is a matrix that keep track of the number of time\n",
    "  # we have receive the reward at a point in R\n",
    "  # this matrix is for bookkeeping for our RUNNING AVERAGE reward\n",
    "  counts = np.zeros_like(R)\n",
    "\n",
    "  num_iter = 1000\n",
    "\n",
    "  # Q matrix update\n",
    "  for i in range(num_iter):\n",
    "      P_t = P_0\n",
    "\n",
    "      # initial path: don't buy anything until the last time step\n",
    "      # we will decrement the path backward until we reach a state where\n",
    "      # we buy everything in the first time step\n",
    "      # i.e. path[0] = 0\n",
    "      path = [total_shares // 1000 for i in range(T)]\n",
    "      # at the last time step the remaining shares to purchase must be 0\n",
    "      path[-1] = 0\n",
    "\n",
    "      # this variable is for path generation bookkeeping purpose\n",
    "      # have another additional - 1 for indexing\n",
    "      last_modified_time = (T - 1) - 1\n",
    "\n",
    "      # iterate through each possible path\n",
    "      while path[0] != -1:    \n",
    "        # print(\"===== start of one path =======\")\n",
    "        last_nonzero_index = 0\n",
    "        # print(path)\n",
    "\n",
    "        P_t = P_0\n",
    "        current_stocks_remaining = total_shares // 1000\n",
    "        # iterate through each time period\n",
    "        for t in range(T):\n",
    "          \n",
    "          stock_sold = current_stocks_remaining - path[t]\n",
    "          \n",
    "          # update price\n",
    "          P_t = price_func(P_t, P_0, theta1, theta2, stock_sold, path, t)\n",
    "          \n",
    "          reward_of_this_trial = stock_sold * P_t\n",
    "          prev_average_reward = R[t][current_stocks_remaining][stock_sold]\n",
    "          prev_counts = counts[t][current_stocks_remaining][stock_sold]\n",
    "\n",
    "          reward = (reward_of_this_trial + prev_counts * prev_average_reward) \\\n",
    "            / (prev_counts + 1)\n",
    "\n",
    "          R[t][current_stocks_remaining][stock_sold] = reward\n",
    "          counts[t][current_stocks_remaining][stock_sold] += 1\n",
    "\n",
    "          best_next_q = 0\n",
    "          next_possible_actions = actions[:path[t]+1]\n",
    "          # print(next_possible_actions)\n",
    "          if t < T - 1:\n",
    "            for next_action in next_possible_actions:\n",
    "              best_next_q = max(best_next_q, Q[t+1][path[t]][next_action])\n",
    "\n",
    "          # print(best_next_q)\n",
    "          original_q = Q[t][current_stocks_remaining][stock_sold]\n",
    "          Q[t][current_stocks_remaining][stock_sold] = original_q + \\\n",
    "                      alpha * (reward + gamma * best_next_q - original_q)\n",
    "\n",
    "          current_stocks_remaining = path[t]\n",
    "\n",
    "          # we sold all our stocks, time to run the next path\n",
    "          if current_stocks_remaining == 0:\n",
    "            last_nonzero_index = t - 1\n",
    "            break\n",
    "\n",
    "        if last_nonzero_index == -1:\n",
    "          break\n",
    "\n",
    "        # print(last_nonzero_index)\n",
    "        # making new path\n",
    "        path[last_nonzero_index] -= 1\n",
    "        for t_to_change in range(last_nonzero_index + 1, T-1):\n",
    "            path[t_to_change] = path[last_nonzero_index]\n",
    "            \n",
    "  end_time = datetime.datetime.now()\n",
    "  time_diff = diff = relativedelta(end_time, start_time)\n",
    "  print(\"The Q-learning for this problem takes %d hours %d minutes %d seconds to compute using Google Colab GPU\" \n",
    "        % (time_diff.hours, time_diff.minutes, time_diff.seconds))\n",
    "  return Q\n",
    "\n",
    "    "
   ]
  },
  {
   "cell_type": "code",
   "execution_count": 230,
   "metadata": {
    "colab": {
     "base_uri": "https://localhost:8080/",
     "height": 34
    },
    "colab_type": "code",
    "executionInfo": {
     "elapsed": 5711,
     "status": "ok",
     "timestamp": 1557633692984,
     "user": {
      "displayName": "SHUN LIN",
      "photoUrl": "https://lh4.googleusercontent.com/-pkp40ccE7So/AAAAAAAAAAI/AAAAAAAAAU4/Upp1QcV6fHs/s64/photo.jpg",
      "userId": "16137932526864003348"
     },
     "user_tz": 420
    },
    "id": "3YmRUYc1EFlI",
    "outputId": "880dd204-57b0-4ed1-a814-c384c7dbc380"
   },
   "outputs": [
    {
     "name": "stdout",
     "output_type": "stream",
     "text": [
      "The Q-learning for this problem takes 0 hours 0 minutes 5 seconds to compute using Google Colab GPU\n"
     ]
    }
   ],
   "source": [
    "# definnition of linear permanent price impact model\n",
    "# we do not use theta2 in this function becaue we are doing linear permanent\n",
    "# price impact model\n",
    "def linear_permanent_impact(current_price, P_0, theta1, theta2, num_shares, path, t):\n",
    "  noise = np.random.normal()\n",
    "  next_price = current_price + noise + theta1 * -num_shares * 1000\n",
    "  return next_price\n",
    "\n",
    "# learning rate\n",
    "alpha = 0.99\n",
    "\n",
    "# future reward discount rate\n",
    "# when gamma = 1.0 it means that the money we get from selling now\n",
    "# and selling later is the same, meaning there is no inflation\n",
    "# we can tune gamma if we believe that there is inflation\n",
    "# and we want to sell quicker instead of sell later\n",
    "gamma = 1.0\n",
    "\n",
    "# theta we trying to learn using RL\n",
    "theta1 = 2 * 10 ** -3\n",
    "\n",
    "# theta2 is 0 because we are doing linear price impact\n",
    "theta2 = 0\n",
    "\n",
    "# time period of our model\n",
    "T = 5\n",
    "\n",
    "# initial price of stock\n",
    "P_0 = 100\n",
    "\n",
    "# number of shares we want to sell\n",
    "total_shares = 5000\n",
    "\n",
    "# number of iteration we want to go through with Q learning\n",
    "num_iter = 1000\n",
    "\n",
    "# use the linear permanent price impact model\n",
    "price_func = linear_permanent_impact\n",
    "\n",
    "# learn Q\n",
    "Q = Q_learning(total_shares, P_0, T, alpha, theta1, theta2, gamma, num_iter, price_func)"
   ]
  },
  {
   "cell_type": "markdown",
   "metadata": {
    "colab_type": "text",
    "id": "GFre9tE69YLU"
   },
   "source": [
    "### (2.1) Translate Q-matrix to Optimal Selling Strategy\n",
    "\n",
    "Now that we have learned a Q-matrix, let's define a method that will translate the Q-matrix into the optimal selling strategy. This is simple, as the optimal selling strategy (action) of a given state is just the argmax of the associated state in the Q-matrix (argmax over all the possible actions)."
   ]
  },
  {
   "cell_type": "code",
   "execution_count": 0,
   "metadata": {
    "colab": {},
    "colab_type": "code",
    "id": "Z8OQ-xVseuee"
   },
   "outputs": [],
   "source": [
    "def Q_matrix_to_strategy(Q):\n",
    "  \n",
    "  total_time = len(Q)\n",
    "  total_num_shares_to_sell = len(Q[0]) - 1\n",
    "  print(\"====== Q-matrix analysis begin ======\")\n",
    "  print()\n",
    "  print(\"Have {} time period to sell {},000 shares.\\n\"\n",
    "        .format(total_time, total_num_shares_to_sell))\n",
    "  print(\"Optimal strategy based on the learned Q-matrix:\")\n",
    "  num_stocks_left = total_shares // 1000\n",
    "  for t in range(total_time):\n",
    "    num_shares_to_sell = np.argmax(Q[t][num_stocks_left])\n",
    "    print(\"at t={} sell {},000 shares\"\n",
    "          .format(t+1, num_shares_to_sell))\n",
    "    num_stocks_left -= num_shares_to_sell\n",
    "  \n",
    "  print()\n",
    "  print(\"====== Q-matrix analysis finish ======\")"
   ]
  },
  {
   "cell_type": "code",
   "execution_count": 232,
   "metadata": {
    "colab": {
     "base_uri": "https://localhost:8080/",
     "height": 221
    },
    "colab_type": "code",
    "executionInfo": {
     "elapsed": 381,
     "status": "ok",
     "timestamp": 1557633698247,
     "user": {
      "displayName": "SHUN LIN",
      "photoUrl": "https://lh4.googleusercontent.com/-pkp40ccE7So/AAAAAAAAAAI/AAAAAAAAAU4/Upp1QcV6fHs/s64/photo.jpg",
      "userId": "16137932526864003348"
     },
     "user_tz": 420
    },
    "id": "TXhRTTik-s4t",
    "outputId": "9de2a653-4855-4ed2-a17a-3a4525dbfbc2"
   },
   "outputs": [
    {
     "name": "stdout",
     "output_type": "stream",
     "text": [
      "====== Q-matrix analysis begin ======\n",
      "\n",
      "Have 5 time period to sell 5,000 shares.\n",
      "\n",
      "Optimal strategy based on the learned Q-matrix:\n",
      "at t=1 sell 1,000 shares\n",
      "at t=2 sell 1,000 shares\n",
      "at t=3 sell 1,000 shares\n",
      "at t=4 sell 1,000 shares\n",
      "at t=5 sell 1,000 shares\n",
      "\n",
      "====== Q-matrix analysis finish ======\n"
     ]
    }
   ],
   "source": [
    "Q_matrix_to_strategy(Q)"
   ]
  },
  {
   "cell_type": "markdown",
   "metadata": {
    "colab_type": "text",
    "id": "3YdmdeE-BZ_A"
   },
   "source": [
    "As we can see from the above cell's output, we see that our Q-learning algorithm does indeed find the same optimal strategy of selling share at equal amount at every time step! This finding reinforce further tell us that when the price impact is linear, the optimal strategy is to sell the same amount of shares at each time step!"
   ]
  },
  {
   "cell_type": "markdown",
   "metadata": {
    "colab_type": "text",
    "id": "bXkP8-QDUyJk"
   },
   "source": [
    "### (2.2) Recover Theta, $\\theta$, from the Q matrix\n",
    "\n",
    "In this section we will define a method that helps us recover theta from the Q-matrix, assuming that the price impact model is linear and permanent."
   ]
  },
  {
   "cell_type": "code",
   "execution_count": 0,
   "metadata": {
    "colab": {},
    "colab_type": "code",
    "id": "p_Ah9nZwVAFN"
   },
   "outputs": [],
   "source": [
    "# method that returns the recovered theta from Q-matrix computed earlier\n",
    "# and the initial price of the stock we are trying to sell\n",
    "def recover_theta_from_q_matrix(Q, P_0):\n",
    "  total_time = len(Q)\n",
    "  total_num_shares_to_sell = len(Q[0]) - 1\n",
    "  num_shares = total_num_shares_to_sell * 1000\n",
    "  shares_per_time = num_shares / total_time\n",
    "  \n",
    "  best_total_profit = np.max(Q[0][total_num_shares_to_sell])\n",
    "  best_avg_profit = best_total_profit * 1000 / shares_per_time\n",
    "  diff = best_avg_profit - total_time * P_0\n",
    "  theta_accumlated = (total_time * (total_time + 1)) / 2\n",
    "  recovered_theta = -diff / (theta_accumlated * shares_per_time)\n",
    "  return recovered_theta"
   ]
  },
  {
   "cell_type": "code",
   "execution_count": 0,
   "metadata": {
    "colab": {},
    "colab_type": "code",
    "id": "a_fUQkg6ZIvS"
   },
   "outputs": [],
   "source": [
    "# helper function to see how far we are off \n",
    "# from the recovered theta we found vs the real theta\n",
    "def percentage_error(recovered_theta, theta):\n",
    "  print(\"====== Recovered Theta Analysis Start ======\\n\")\n",
    "  print(\"True Theta: {}\".format(theta))\n",
    "  print(\"Recovered Theta: {}\".format(recovered_theta))\n",
    "  diff = abs(recovered_theta - theta)\n",
    "  error = diff / theta * 100\n",
    "  print(\"Percentage Error: {0:.2f}%\".format(error))\n",
    "  print()\n",
    "  print(\"====== Recovered Theta Analysis Ends ======\")"
   ]
  },
  {
   "cell_type": "code",
   "execution_count": 238,
   "metadata": {
    "colab": {
     "base_uri": "https://localhost:8080/",
     "height": 136
    },
    "colab_type": "code",
    "executionInfo": {
     "elapsed": 604,
     "status": "ok",
     "timestamp": 1557633717148,
     "user": {
      "displayName": "SHUN LIN",
      "photoUrl": "https://lh4.googleusercontent.com/-pkp40ccE7So/AAAAAAAAAAI/AAAAAAAAAU4/Upp1QcV6fHs/s64/photo.jpg",
      "userId": "16137932526864003348"
     },
     "user_tz": 420
    },
    "id": "82XfU7XCZDUX",
    "outputId": "10db193e-4c95-4efd-f215-3cbb34986376"
   },
   "outputs": [
    {
     "name": "stdout",
     "output_type": "stream",
     "text": [
      "====== Recovered Theta Analysis Start ======\n",
      "\n",
      "True Theta: 0.002\n",
      "Recovered Theta: 0.002000806097212156\n",
      "Percentage Error: 0.04%\n",
      "\n",
      "====== Recovered Theta Analysis Ends ======\n"
     ]
    }
   ],
   "source": [
    "recovered_theta = recover_theta_from_q_matrix(Q, P_0)\n",
    "percentage_error(recovered_theta, theta)"
   ]
  },
  {
   "cell_type": "markdown",
   "metadata": {
    "colab_type": "text",
    "id": "cVvVfR7Eaevs"
   },
   "source": [
    "As we can see from the cell output above, we have successfully recovered the theta, $\\theta$ from the Q-matrix that we computed before. The theta is unknown for us before but by analyizing the Q-matrix and do processing from values stored within the Q-matrix we are able to recover the unknown theta through Q-learning!"
   ]
  },
  {
   "cell_type": "markdown",
   "metadata": {
    "colab_type": "text",
    "id": "kctW7Jz4I7J9"
   },
   "source": [
    "### (2.3) Test Our Q-Learning Model works with other settings\n",
    "\n",
    "In this section, I want to further test our functionality of `Q_learning` and `Q_matrix_to_strategy` method that I have defined with other settings to make sure that I did not hard-code anything when I implment those methods."
   ]
  },
  {
   "cell_type": "code",
   "execution_count": 239,
   "metadata": {
    "colab": {
     "base_uri": "https://localhost:8080/",
     "height": 34
    },
    "colab_type": "code",
    "executionInfo": {
     "elapsed": 52257,
     "status": "ok",
     "timestamp": 1557633838892,
     "user": {
      "displayName": "SHUN LIN",
      "photoUrl": "https://lh4.googleusercontent.com/-pkp40ccE7So/AAAAAAAAAAI/AAAAAAAAAU4/Upp1QcV6fHs/s64/photo.jpg",
      "userId": "16137932526864003348"
     },
     "user_tz": 420
    },
    "id": "ZlITbGeeJZQ8",
    "outputId": "4a8aa5f3-a2df-4cc7-d44f-4b9c89f1a751"
   },
   "outputs": [
    {
     "name": "stdout",
     "output_type": "stream",
     "text": [
      "The Q-learning for this problem takes 0 hours 0 minutes 51 seconds to compute using Google Colab GPU\n"
     ]
    }
   ],
   "source": [
    "# learning rate\n",
    "alpha = 0.99\n",
    "\n",
    "# future reward discount rate\n",
    "# when gamma = 1.0 it means that the money we get from selling now\n",
    "# and selling later is the same, meaning there is no inflation\n",
    "# we can tune gamma if we believe that there is inflation\n",
    "# and we want to sell quicker instead of sell later\n",
    "gamma = 1.0\n",
    "\n",
    "# theta we trying to learn using RL\n",
    "theta1 = 2 * 10 ** -3\n",
    "\n",
    "# theta2 is 0 because we are doing linear price impact\n",
    "theta2 = 0\n",
    "\n",
    "# time period of our model\n",
    "T = 5\n",
    "\n",
    "# initial price of stock\n",
    "P_0 = 100\n",
    "\n",
    "# number of shares we want to sell\n",
    "total_shares = 10000\n",
    "\n",
    "# number of iteration we want to go through with Q learning\n",
    "num_iter = 10\n",
    "\n",
    "# use the linear permanent price impact model\n",
    "price_func = linear_permanent_impact\n",
    "\n",
    "# learn Q\n",
    "Q = Q_learning(total_shares, P_0, T, alpha, theta1, theta2, gamma, num_iter, price_func)"
   ]
  },
  {
   "cell_type": "markdown",
   "metadata": {
    "colab_type": "text",
    "id": "ApzZg8TWNbpw"
   },
   "source": [
    "As we can see from the output of the cell above, when we increase the actions space (i.e. increase the total number of shares we can to sell) we increase the time to compute the Q-matrix exponentially. "
   ]
  },
  {
   "cell_type": "code",
   "execution_count": 240,
   "metadata": {
    "colab": {
     "base_uri": "https://localhost:8080/",
     "height": 221
    },
    "colab_type": "code",
    "executionInfo": {
     "elapsed": 50945,
     "status": "ok",
     "timestamp": 1557633838894,
     "user": {
      "displayName": "SHUN LIN",
      "photoUrl": "https://lh4.googleusercontent.com/-pkp40ccE7So/AAAAAAAAAAI/AAAAAAAAAU4/Upp1QcV6fHs/s64/photo.jpg",
      "userId": "16137932526864003348"
     },
     "user_tz": 420
    },
    "id": "8yg5IwkMJhl1",
    "outputId": "00d08738-6b67-4fd1-82ab-001dd69e3854"
   },
   "outputs": [
    {
     "name": "stdout",
     "output_type": "stream",
     "text": [
      "====== Q-matrix analysis begin ======\n",
      "\n",
      "Have 5 time period to sell 10,000 shares.\n",
      "\n",
      "Optimal strategy based on the learned Q-matrix:\n",
      "at t=1 sell 2,000 shares\n",
      "at t=2 sell 2,000 shares\n",
      "at t=3 sell 2,000 shares\n",
      "at t=4 sell 2,000 shares\n",
      "at t=5 sell 2,000 shares\n",
      "\n",
      "====== Q-matrix analysis finish ======\n"
     ]
    }
   ],
   "source": [
    "Q_matrix_to_strategy(Q)"
   ]
  },
  {
   "cell_type": "markdown",
   "metadata": {
    "colab_type": "text",
    "id": "dvjaBTy6eGOA"
   },
   "source": [
    "As we can see from the output from the cell above, our Q-learning model is still able to learn the correct and optimal strategy of selling shares in equal amount through out the time period."
   ]
  },
  {
   "cell_type": "code",
   "execution_count": 241,
   "metadata": {
    "colab": {
     "base_uri": "https://localhost:8080/",
     "height": 136
    },
    "colab_type": "code",
    "executionInfo": {
     "elapsed": 47532,
     "status": "ok",
     "timestamp": 1557633838895,
     "user": {
      "displayName": "SHUN LIN",
      "photoUrl": "https://lh4.googleusercontent.com/-pkp40ccE7So/AAAAAAAAAAI/AAAAAAAAAU4/Upp1QcV6fHs/s64/photo.jpg",
      "userId": "16137932526864003348"
     },
     "user_tz": 420
    },
    "id": "O6J7cySrbEvr",
    "outputId": "0d3ae2e0-12f9-49d1-84fc-252bd9b15070"
   },
   "outputs": [
    {
     "name": "stdout",
     "output_type": "stream",
     "text": [
      "====== Recovered Theta Analysis Start ======\n",
      "\n",
      "True Theta: 0.002\n",
      "Recovered Theta: 0.002000138734310995\n",
      "Percentage Error: 0.01%\n",
      "\n",
      "====== Recovered Theta Analysis Ends ======\n"
     ]
    }
   ],
   "source": [
    "recovered_theta = recover_theta_from_q_matrix(Q, P_0)\n",
    "percentage_error(recovered_theta, theta)"
   ]
  },
  {
   "cell_type": "markdown",
   "metadata": {
    "colab_type": "text",
    "id": "xWDQ_18zNram"
   },
   "source": [
    "As we can see from the output from the cell above, our Q-learning model is still able to learn the correct theta! Meaning that through looking at the value in Q-matrix we are able to recover the theta, which is the price impact, on selling the shares we own."
   ]
  },
  {
   "cell_type": "code",
   "execution_count": 135,
   "metadata": {
    "colab": {
     "base_uri": "https://localhost:8080/",
     "height": 34
    },
    "colab_type": "code",
    "executionInfo": {
     "elapsed": 493705,
     "status": "ok",
     "timestamp": 1557629824035,
     "user": {
      "displayName": "SHUN LIN",
      "photoUrl": "https://lh4.googleusercontent.com/-pkp40ccE7So/AAAAAAAAAAI/AAAAAAAAAU4/Upp1QcV6fHs/s64/photo.jpg",
      "userId": "16137932526864003348"
     },
     "user_tz": 420
    },
    "id": "zPxPAY1fJiLw",
    "outputId": "80f2098c-2e80-4451-a0ea-827d4c8e0327"
   },
   "outputs": [
    {
     "name": "stdout",
     "output_type": "stream",
     "text": [
      "The Q-learning for this problem takes 0 hours 8 minutes 12 seconds to compute using Google Colab GPU\n"
     ]
    }
   ],
   "source": [
    "# learning rate\n",
    "alpha = 0.99\n",
    "\n",
    "# future reward discount rate\n",
    "# when gamma = 1.0 it means that the money we get from selling now\n",
    "# and selling later is the same, meaning there is no inflation\n",
    "# we can tune gamma if we believe that there is inflation\n",
    "# and we want to sell quicker instead of sell later\n",
    "gamma = 1.0\n",
    "\n",
    "# theta we trying to learn using RL\n",
    "theta1 = 2 * 10 ** -3\n",
    "\n",
    "# theta2 is 0 because we are doing linear price impact\n",
    "theta2 = 0\n",
    "\n",
    "# time period of our model\n",
    "T = 8\n",
    "\n",
    "# initial price of stock\n",
    "P_0 = 100\n",
    "\n",
    "# number of shares we want to sell\n",
    "total_shares = 8000\n",
    "\n",
    "# number of iteration we want to go through with Q learning\n",
    "num_iter = 2\n",
    "\n",
    "# use the linear permanent price impact model\n",
    "price_func = linear_permanent_impact\n",
    "\n",
    "# learn Q\n",
    "Q = Q_learning(total_shares, P_0, T, alpha, theta1, theta2, gamma, num_iter, price_func)"
   ]
  },
  {
   "cell_type": "markdown",
   "metadata": {
    "colab_type": "text",
    "id": "4VFlPoBmPDiP"
   },
   "source": [
    "As we can see from above cell output, the time for my implmentation of Q-learning on this problem takes 7 minutes on GPU! As we can see that when we increase the time period T and total shares we want to sell, the time to compute the problem becomes long, but it still works! See the below cell output."
   ]
  },
  {
   "cell_type": "code",
   "execution_count": 136,
   "metadata": {
    "colab": {
     "base_uri": "https://localhost:8080/",
     "height": 272
    },
    "colab_type": "code",
    "executionInfo": {
     "elapsed": 492663,
     "status": "ok",
     "timestamp": 1557629824038,
     "user": {
      "displayName": "SHUN LIN",
      "photoUrl": "https://lh4.googleusercontent.com/-pkp40ccE7So/AAAAAAAAAAI/AAAAAAAAAU4/Upp1QcV6fHs/s64/photo.jpg",
      "userId": "16137932526864003348"
     },
     "user_tz": 420
    },
    "id": "9MgDtaKhNEYz",
    "outputId": "131cebf4-0e68-4654-a471-6d433e338ccf"
   },
   "outputs": [
    {
     "name": "stdout",
     "output_type": "stream",
     "text": [
      "====== Q-matrix analysis begin ======\n",
      "\n",
      "Have 8 time period to sell 8,000 shares.\n",
      "\n",
      "Optimal strategy based on the learned Q-matrix:\n",
      "at t=1 sell 1,000 shares\n",
      "at t=2 sell 1,000 shares\n",
      "at t=3 sell 1,000 shares\n",
      "at t=4 sell 1,000 shares\n",
      "at t=5 sell 1,000 shares\n",
      "at t=6 sell 1,000 shares\n",
      "at t=7 sell 1,000 shares\n",
      "at t=8 sell 1,000 shares\n",
      "\n",
      "====== Q-matrix analysis finish ======\n"
     ]
    }
   ],
   "source": [
    "Q_matrix_to_strategy(Q)"
   ]
  },
  {
   "cell_type": "markdown",
   "metadata": {
    "colab_type": "text",
    "id": "vWwJI_Vk8ZrO"
   },
   "source": [
    "As we can see from the cell output from above, our Q-learning model still able to come out with the optimal strategy in selling the shares we own even when it takes a long time to compute! "
   ]
  },
  {
   "cell_type": "code",
   "execution_count": 137,
   "metadata": {
    "colab": {
     "base_uri": "https://localhost:8080/",
     "height": 136
    },
    "colab_type": "code",
    "executionInfo": {
     "elapsed": 490123,
     "status": "ok",
     "timestamp": 1557629824039,
     "user": {
      "displayName": "SHUN LIN",
      "photoUrl": "https://lh4.googleusercontent.com/-pkp40ccE7So/AAAAAAAAAAI/AAAAAAAAAU4/Upp1QcV6fHs/s64/photo.jpg",
      "userId": "16137932526864003348"
     },
     "user_tz": 420
    },
    "id": "zZfoJwRktw7A",
    "outputId": "afbabcf2-8e91-496e-8ebd-be72b67507f0"
   },
   "outputs": [
    {
     "name": "stdout",
     "output_type": "stream",
     "text": [
      "====== Recovered Theta Analysis Start ======\n",
      "\n",
      "True Theta: 0.002\n",
      "Recovered Theta: 0.0019997647601037523\n",
      "Percentage Error: 0.01%\n",
      "\n",
      "====== Recovered Theta Analysis Ends ======\n"
     ]
    }
   ],
   "source": [
    "recovered_theta = recover_theta_from_q_matrix(Q, P_0)\n",
    "percentage_error(recovered_theta, theta)"
   ]
  },
  {
   "cell_type": "markdown",
   "metadata": {
    "colab_type": "text",
    "id": "EzsgqFOzPfN7"
   },
   "source": [
    "As we can see from the cell output from above, we are still able to recover our theta from this problem to a very accurate degree even when the problem takes a long time to compute, this further prove that by using the Q-matrix and Q-learning we are able to not just find the optimal strategy in the linear permanent price impact model but also the theta value."
   ]
  },
  {
   "cell_type": "markdown",
   "metadata": {
    "colab_type": "text",
    "id": "NLJdAwt9RMWy"
   },
   "source": [
    "### (2.4) Result of Using Q-learning on Linear Permanent Price Impact Model\n",
    "\n",
    "As we can see from the above, the Q-learning algorithm is able to allow us to both find the optimal selling strategy (and with even more generalization to our algorithm we can also include the optimal buying strategy) and also learned the unknown theta. The resulting optimal strategy of Q-learning on linear permanent price impact model further proved that the best way to buy/sell a large number of shares is to split them equally throughout the time period that we have to trade the stock. For even in our first enviornment, the optimal strategy for selling 5,000 shares in 5 time period is to sell 1,000 shares at each time period."
   ]
  },
  {
   "cell_type": "markdown",
   "metadata": {
    "colab_type": "text",
    "id": "wvi1seD_ClCT"
   },
   "source": [
    "## (3) Q-learning on Quadratic Temporary Price Impact\n",
    "\n",
    "In this section, we will define the quadratic impact function and use the Q-learning method we have developed above to see what the optimal strategy is under quadratic temporary price impact and also try to recover the unknown parameter $\\theta_1$ and $\\theta_2$ if possible.\n",
    "\n",
    "Quadratic temporary Price Impact Price Change Formula \n",
    "\n",
    "$P_t = P_{0} + \\epsilon_t + \\theta_1 S_t + \\theta_2 S_t^2 $\n",
    "\n",
    "As you can see from this formula, the $\\theta_1$ term is the term for the linear price impact and the $\\theta_2$ is the term for the quadratic price impact. Since we are dealing with quadratic term, we need to be really careful in choosing our $\\theta_2$ term as in our problem definition we are dealing in thousands of shares and thus the squared term can really affect the price of the share.\n"
   ]
  },
  {
   "cell_type": "markdown",
   "metadata": {
    "colab_type": "text",
    "id": "qpuix5gyC0uO"
   },
   "source": [
    "### (3.1) Synthetic Price Movements Generation for Quadratic Temporary Case\n",
    "\n",
    "In this section we will define a naive approach similiar to how to do it for the linear temporary price impact case and see how the price change when we sell shares at equal interval through the time allowed."
   ]
  },
  {
   "cell_type": "code",
   "execution_count": 0,
   "metadata": {
    "colab": {},
    "colab_type": "code",
    "id": "OPoDNpfmC8fb"
   },
   "outputs": [],
   "source": [
    "# this is a helper function for naive solution\n",
    "def naive_solution(P_0, total_shares, theta1, theta2, T):\n",
    "    \n",
    "    cost = 0\n",
    "    \n",
    "    # initiailze P_t to be the initial price\n",
    "    s_t = (total_shares / T)\n",
    "    \n",
    "    P = [0] * T\n",
    "    P_t = P_0\n",
    "\n",
    "    for i in range(T):\n",
    "        # update the price of the stock base on the quad temp price model\n",
    "        noise = np.random.normal()\n",
    "        P_t = P_0 + noise + -(theta1 * s_t + theta2 * s_t ** 2)\n",
    "        \n",
    "        # add the cost of purchasing 5000 shares\n",
    "        P[i] = P_t\n",
    "        cost += P_t * s_t\n",
    "    \n",
    "    cost_per_share = cost / total_shares\n",
    "    return cost_per_share, P"
   ]
  },
  {
   "cell_type": "code",
   "execution_count": 0,
   "metadata": {
    "colab": {},
    "colab_type": "code",
    "id": "KceDtPQnDTDx"
   },
   "outputs": [],
   "source": [
    "# theta1 for the linear term of price impact\n",
    "theta1 = 1 * 10 ** -3\n",
    "\n",
    "# theta2 for the quad term  of price impact\n",
    "theta2 = 1 * 10 ** -7\n",
    "\n",
    "# learning rate\n",
    "alpha = 0.9\n",
    "\n",
    "# time period of our model\n",
    "T = 5\n",
    "\n",
    "# initial price of stock\n",
    "P_0 = 100\n",
    "\n",
    "# number of shares we want to sell\n",
    "total_shares = 5000\n",
    "\n",
    "num_stimuation = 10000\n",
    "costs_per_share = [0] * num_stimuation\n",
    "Ps = [0] * num_stimuation\n",
    "for j in range(num_stimuation):\n",
    "    cost, P = naive_solution(P_0, total_shares, theta1, theta2, T)\n",
    "    costs_per_share[j] = cost\n",
    "    Ps[j] = P"
   ]
  },
  {
   "cell_type": "code",
   "execution_count": 260,
   "metadata": {
    "colab": {
     "base_uri": "https://localhost:8080/",
     "height": 298
    },
    "colab_type": "code",
    "executionInfo": {
     "elapsed": 828,
     "status": "ok",
     "timestamp": 1557633933736,
     "user": {
      "displayName": "SHUN LIN",
      "photoUrl": "https://lh4.googleusercontent.com/-pkp40ccE7So/AAAAAAAAAAI/AAAAAAAAAU4/Upp1QcV6fHs/s64/photo.jpg",
      "userId": "16137932526864003348"
     },
     "user_tz": 420
    },
    "id": "XAcLNWNCDVXP",
    "outputId": "c3ec4a64-cf2d-40ca-f4c3-adbeff47cdcd"
   },
   "outputs": [
    {
     "data": {
      "image/png": "[encoded data removed]",
      "text/plain": [
       "<Figure size 432x288 with 1 Axes>"
      ]
     },
     "metadata": {
      "tags": []
     },
     "output_type": "display_data"
    },
    {
     "name": "stdout",
     "output_type": "stream",
     "text": [
      "The median reward per share is $98.90\n"
     ]
    }
   ],
   "source": [
    "plt.boxplot(costs_per_share)\n",
    "plt.title(\"reward per share using naive approach\")\n",
    "plt.ylabel(\"price\")\n",
    "plt.show()\n",
    "print(\"The median reward per share is $%.2f\" % np.median(costs_per_share))"
   ]
  },
  {
   "cell_type": "code",
   "execution_count": 261,
   "metadata": {
    "colab": {
     "base_uri": "https://localhost:8080/",
     "height": 295
    },
    "colab_type": "code",
    "executionInfo": {
     "elapsed": 686,
     "status": "ok",
     "timestamp": 1557633934198,
     "user": {
      "displayName": "SHUN LIN",
      "photoUrl": "https://lh4.googleusercontent.com/-pkp40ccE7So/AAAAAAAAAAI/AAAAAAAAAU4/Upp1QcV6fHs/s64/photo.jpg",
      "userId": "16137932526864003348"
     },
     "user_tz": 420
    },
    "id": "B5lvXUXADYPa",
    "outputId": "f935584c-51c2-4ab3-c5db-a46027dd7a8a"
   },
   "outputs": [
    {
     "data": {
      "image/png": "[encoded data removed]",
      "text/plain": [
       "<Figure size 432x288 with 1 Axes>"
      ]
     },
     "metadata": {
      "tags": []
     },
     "output_type": "display_data"
    }
   ],
   "source": [
    "x = np.arange(0, 5)\n",
    "y = np.asarray(Ps[0:5])\n",
    "plt.plot(x, y.T)\n",
    "plt.xticks(np.arange(min(x), max(x)+1, 1.0))\n",
    "plt.title(\"Price of the stock in each time period\")\n",
    "plt.ylabel(\"Stock price\")\n",
    "plt.xlabel(\"time\")\n",
    "plt.show()"
   ]
  },
  {
   "cell_type": "markdown",
   "metadata": {
    "colab_type": "text",
    "id": "byrxcpaiDlE2"
   },
   "source": [
    "As we can see from the graph above, the quadratic temporary price impact model will have the stock price jump high in the first time step, and then stay relatively the same after because the price impact is termporary and not permanent, so if we do not sell shares in one time step the price will fall back to $P_0$ as we have expected from the formula above. The figure above used the naive, sell the same amount of share at each time period and thus the temporary price impact stay the same and thus $P_t$ also stay relatively the same throughout the course of the trading periods after the first time step."
   ]
  },
  {
   "cell_type": "markdown",
   "metadata": {
    "colab_type": "text",
    "id": "BCJuHiXtFHcR"
   },
   "source": [
    "### (3.2) Using Q-Learning Algorithm to solve the optimal strategy for quadratic temporary impact case"
   ]
  },
  {
   "cell_type": "code",
   "execution_count": 268,
   "metadata": {
    "colab": {
     "base_uri": "https://localhost:8080/",
     "height": 34
    },
    "colab_type": "code",
    "executionInfo": {
     "elapsed": 5752,
     "status": "ok",
     "timestamp": 1557634148819,
     "user": {
      "displayName": "SHUN LIN",
      "photoUrl": "https://lh4.googleusercontent.com/-pkp40ccE7So/AAAAAAAAAAI/AAAAAAAAAU4/Upp1QcV6fHs/s64/photo.jpg",
      "userId": "16137932526864003348"
     },
     "user_tz": 420
    },
    "id": "hoEVL0C6FOg1",
    "outputId": "6af23e51-80d8-433c-c176-08e9dcac2794"
   },
   "outputs": [
    {
     "name": "stdout",
     "output_type": "stream",
     "text": [
      "The Q-learning for this problem takes 0 hours 0 minutes 5 seconds to compute using Google Colab GPU\n"
     ]
    }
   ],
   "source": [
    "# definnition of quadratic permanent price impact model\n",
    "def quad_temp_impact(current_price, P_0, theta1, theta2, num_shares, path, t):\n",
    "  noise = np.random.normal()\n",
    "  s_t = num_shares * 1000\n",
    "  next_price = P_0 + noise + -(theta1 * s_t + theta2 * s_t ** 2)\n",
    "  return next_price\n",
    "\n",
    "# learning rate\n",
    "alpha = 0.99\n",
    "\n",
    "# future reward discount rate\n",
    "# when gamma = 1.0 it means that the money we get from selling now\n",
    "# and selling later is the same, meaning there is no inflation\n",
    "# we can tune gamma if we believe that there is inflation\n",
    "# and we want to sell quicker instead of sell later\n",
    "gamma = 1.0\n",
    "\n",
    "# theta1 for the linear term of price impact\n",
    "theta1 = 5 * 10 ** -3\n",
    "\n",
    "# theta2 for the quad term  of price impact\n",
    "theta2 = 1 * 10 ** -6\n",
    "\n",
    "# time period of our model\n",
    "T = 5\n",
    "\n",
    "# initial price of stock\n",
    "P_0 = 100\n",
    "\n",
    "# number of shares we want to sell\n",
    "total_shares = 5000\n",
    "\n",
    "# number of iteration we want to go through with Q learning\n",
    "num_iter = 1000\n",
    "\n",
    "# use the linear permanent price impact model\n",
    "price_func = quad_temp_impact\n",
    "\n",
    "# learn Q\n",
    "Q = Q_learning(total_shares, P_0, T, alpha, theta1 ,theta2, gamma, num_iter, price_func)"
   ]
  },
  {
   "cell_type": "code",
   "execution_count": 269,
   "metadata": {
    "colab": {
     "base_uri": "https://localhost:8080/",
     "height": 221
    },
    "colab_type": "code",
    "executionInfo": {
     "elapsed": 5371,
     "status": "ok",
     "timestamp": 1557634148821,
     "user": {
      "displayName": "SHUN LIN",
      "photoUrl": "https://lh4.googleusercontent.com/-pkp40ccE7So/AAAAAAAAAAI/AAAAAAAAAU4/Upp1QcV6fHs/s64/photo.jpg",
      "userId": "16137932526864003348"
     },
     "user_tz": 420
    },
    "id": "TSX3szbIFU51",
    "outputId": "67abde6e-751a-437b-dec4-0caedf059f92"
   },
   "outputs": [
    {
     "name": "stdout",
     "output_type": "stream",
     "text": [
      "====== Q-matrix analysis begin ======\n",
      "\n",
      "Have 5 time period to sell 5,000 shares.\n",
      "\n",
      "Optimal strategy based on the learned Q-matrix:\n",
      "at t=1 sell 1,000 shares\n",
      "at t=2 sell 1,000 shares\n",
      "at t=3 sell 1,000 shares\n",
      "at t=4 sell 1,000 shares\n",
      "at t=5 sell 1,000 shares\n",
      "\n",
      "====== Q-matrix analysis finish ======\n"
     ]
    }
   ],
   "source": [
    "Q_matrix_to_strategy(Q)"
   ]
  },
  {
   "cell_type": "markdown",
   "metadata": {
    "colab_type": "text",
    "id": "awvIx-FRIcsU"
   },
   "source": [
    "As we can see from the above cell output, the optimal strategy of the quadratic temporary price impact model is the same as linear permanent price impact model case, sell stocks evenly across the time period. This makes sense as the price impact is temporary and thus in order to minimize the negative price impact of the sale we want to spread out the sale of stocks throughout the period we want. This will maximize the profit we will get by selling shares under the assumption of the quadratic temporary price model. Very interesting!"
   ]
  },
  {
   "cell_type": "markdown",
   "metadata": {
    "colab_type": "text",
    "id": "wYviLBGsRKIT"
   },
   "source": [
    "### (3.3) More Examples using Q-learning on Quadratic Temporary Price Impact to test the optimal strategy\n",
    "\n",
    "In this section we are going to make more examples using the Q-learning on Quadratic temporary price impact to see if the optimal strategy for quadratic temporary price impact is the same (selling shares with equal amount at each time step)."
   ]
  },
  {
   "cell_type": "code",
   "execution_count": 295,
   "metadata": {
    "colab": {
     "base_uri": "https://localhost:8080/",
     "height": 34
    },
    "colab_type": "code",
    "executionInfo": {
     "elapsed": 50798,
     "status": "ok",
     "timestamp": 1557635629528,
     "user": {
      "displayName": "SHUN LIN",
      "photoUrl": "https://lh4.googleusercontent.com/-pkp40ccE7So/AAAAAAAAAAI/AAAAAAAAAU4/Upp1QcV6fHs/s64/photo.jpg",
      "userId": "16137932526864003348"
     },
     "user_tz": 420
    },
    "id": "YrLpX0YgUBsH",
    "outputId": "834e9409-80fb-4b87-b4c4-0888e16101d8"
   },
   "outputs": [
    {
     "name": "stdout",
     "output_type": "stream",
     "text": [
      "The Q-learning for this problem takes 0 hours 0 minutes 50 seconds to compute using Google Colab GPU\n"
     ]
    }
   ],
   "source": [
    "# learning rate\n",
    "alpha = 0.99\n",
    "\n",
    "# future reward discount rate\n",
    "# when gamma = 1.0 it means that the money we get from selling now\n",
    "# and selling later is the same, meaning there is no inflation\n",
    "# we can tune gamma if we believe that there is inflation\n",
    "# and we want to sell quicker instead of sell later\n",
    "gamma = 1.0\n",
    "\n",
    "# theta we trying to learn using RL\n",
    "theta1 = 2 * 10 ** -3\n",
    "\n",
    "# theta2 is 0 because we are doing linear price impact\n",
    "theta2 = 2 * 10 ** -6\n",
    "\n",
    "# time period of our model\n",
    "T = 5\n",
    "\n",
    "# initial price of stock\n",
    "P_0 = 1000\n",
    "\n",
    "# number of shares we want to sell\n",
    "total_shares = 10000\n",
    "\n",
    "# number of iteration we want to go through with Q learning\n",
    "num_iter = 10\n",
    "\n",
    "# use the linear permanent price impact model\n",
    "price_func = quad_temp_impact\n",
    "\n",
    "# learn Q\n",
    "Q = Q_learning(total_shares, P_0, T, alpha, theta1, theta2, gamma, num_iter, price_func)"
   ]
  },
  {
   "cell_type": "code",
   "execution_count": 298,
   "metadata": {
    "colab": {
     "base_uri": "https://localhost:8080/",
     "height": 221
    },
    "colab_type": "code",
    "executionInfo": {
     "elapsed": 431,
     "status": "ok",
     "timestamp": 1557635658271,
     "user": {
      "displayName": "SHUN LIN",
      "photoUrl": "https://lh4.googleusercontent.com/-pkp40ccE7So/AAAAAAAAAAI/AAAAAAAAAU4/Upp1QcV6fHs/s64/photo.jpg",
      "userId": "16137932526864003348"
     },
     "user_tz": 420
    },
    "id": "xJybgu5mUMmN",
    "outputId": "31be1b65-b65c-45e0-f8e2-6cc63ec25994"
   },
   "outputs": [
    {
     "name": "stdout",
     "output_type": "stream",
     "text": [
      "====== Q-matrix analysis begin ======\n",
      "\n",
      "Have 5 time period to sell 10,000 shares.\n",
      "\n",
      "Optimal strategy based on the learned Q-matrix:\n",
      "at t=1 sell 2,000 shares\n",
      "at t=2 sell 2,000 shares\n",
      "at t=3 sell 2,000 shares\n",
      "at t=4 sell 2,000 shares\n",
      "at t=5 sell 2,000 shares\n",
      "\n",
      "====== Q-matrix analysis finish ======\n"
     ]
    }
   ],
   "source": [
    "Q_matrix_to_strategy(Q)"
   ]
  },
  {
   "cell_type": "markdown",
   "metadata": {
    "colab_type": "text",
    "id": "GzrlBsNkUO_t"
   },
   "source": [
    "As we can see from the cell output above, the optimal strategy for selling 10,000 shares in 5 time period under the quadratic temporary price impact model is the same as expected, sell 2,000 shares at each time period!"
   ]
  },
  {
   "cell_type": "code",
   "execution_count": 299,
   "metadata": {
    "colab": {
     "base_uri": "https://localhost:8080/",
     "height": 34
    },
    "colab_type": "code",
    "executionInfo": {
     "elapsed": 111330,
     "status": "ok",
     "timestamp": 1557636031495,
     "user": {
      "displayName": "SHUN LIN",
      "photoUrl": "https://lh4.googleusercontent.com/-pkp40ccE7So/AAAAAAAAAAI/AAAAAAAAAU4/Upp1QcV6fHs/s64/photo.jpg",
      "userId": "16137932526864003348"
     },
     "user_tz": 420
    },
    "id": "u1ruRX9LVYpe",
    "outputId": "2b7f8772-8737-4af2-8dc3-ca2743ecf4d5"
   },
   "outputs": [
    {
     "name": "stdout",
     "output_type": "stream",
     "text": [
      "The Q-learning for this problem takes 0 hours 1 minutes 50 seconds to compute using Google Colab GPU\n"
     ]
    }
   ],
   "source": [
    "# learning rate\n",
    "alpha = 0.99\n",
    "\n",
    "# future reward discount rate\n",
    "# when gamma = 1.0 it means that the money we get from selling now\n",
    "# and selling later is the same, meaning there is no inflation\n",
    "# we can tune gamma if we believe that there is inflation\n",
    "# and we want to sell quicker instead of sell later\n",
    "gamma = 1.0\n",
    "\n",
    "# theta we trying to learn using RL\n",
    "theta1 = 2 * 10 ** -3\n",
    "\n",
    "# theta2 is 0 because we are doing linear price impact\n",
    "theta2 = 2 * 10 ** -5\n",
    "\n",
    "# time period of our model\n",
    "T = 7\n",
    "\n",
    "# initial price of stock\n",
    "P_0 = 1000\n",
    "\n",
    "# number of shares we want to sell\n",
    "total_shares = 7000\n",
    "\n",
    "# number of iteration we want to go through with Q learning\n",
    "num_iter = 10\n",
    "\n",
    "# use the linear permanent price impact model\n",
    "price_func = quad_temp_impact\n",
    "\n",
    "# learn Q\n",
    "Q = Q_learning(total_shares, P_0, T, alpha, theta1, theta2, gamma, num_iter, price_func)"
   ]
  },
  {
   "cell_type": "code",
   "execution_count": 300,
   "metadata": {
    "colab": {
     "base_uri": "https://localhost:8080/",
     "height": 255
    },
    "colab_type": "code",
    "executionInfo": {
     "elapsed": 100619,
     "status": "ok",
     "timestamp": 1557636031501,
     "user": {
      "displayName": "SHUN LIN",
      "photoUrl": "https://lh4.googleusercontent.com/-pkp40ccE7So/AAAAAAAAAAI/AAAAAAAAAU4/Upp1QcV6fHs/s64/photo.jpg",
      "userId": "16137932526864003348"
     },
     "user_tz": 420
    },
    "id": "uvKq2O0CVhG1",
    "outputId": "e852f196-dd69-4056-d71e-bcd226afc22f"
   },
   "outputs": [
    {
     "name": "stdout",
     "output_type": "stream",
     "text": [
      "====== Q-matrix analysis begin ======\n",
      "\n",
      "Have 7 time period to sell 7,000 shares.\n",
      "\n",
      "Optimal strategy based on the learned Q-matrix:\n",
      "at t=1 sell 1,000 shares\n",
      "at t=2 sell 1,000 shares\n",
      "at t=3 sell 1,000 shares\n",
      "at t=4 sell 1,000 shares\n",
      "at t=5 sell 1,000 shares\n",
      "at t=6 sell 1,000 shares\n",
      "at t=7 sell 1,000 shares\n",
      "\n",
      "====== Q-matrix analysis finish ======\n"
     ]
    }
   ],
   "source": [
    "Q_matrix_to_strategy(Q)"
   ]
  },
  {
   "cell_type": "markdown",
   "metadata": {
    "colab_type": "text",
    "id": "GOOv37xtViI6"
   },
   "source": [
    "As we can see from the cell output above, the optimal strategy for selling 7,000 shares in 7 time period under the quadratic temporary price impact model is the same as expected, sell 1,000 shares at each time period! Those additional examples further tell us that the optimal strategy under the  quadratic termporary price impact model is to sell the same amount of shares at each time period regardless of parameters."
   ]
  },
  {
   "cell_type": "markdown",
   "metadata": {
    "colab_type": "text",
    "id": "QTeRMNP9V0hj"
   },
   "source": [
    "### (3.4) Result of Using Q-learning on Quadratic Temporary Price Impact Model\n",
    "\n",
    "As we can see from the above, the Q-learning algorithm is able to allow us to find the optimal selling strategy (and with even more generalization to our algorithm we can also include the optimal buying strategy). The resulting optimal strategy of Q-learning on quadratic termporary price impact model further proved that the best way to buy/sell a large number of shares is to split them equally throughout the time period that we have to trade the stock. For even in our first enviornment, the optimal strategy for selling 5,000 shares in 5 time period is to sell 1,000 shares at each time period. This result is very interesting as this is the same result we would have gotten from Linear Permanent Price Impact model as we can see from section 2 of this notebook!"
   ]
  },
  {
   "cell_type": "markdown",
   "metadata": {
    "colab_type": "text",
    "id": "ls1TEnHuuM-O"
   },
   "source": [
    "## (4) Q-learning on Quadratic Permanent Price Impact\n",
    "\n",
    "In this section, we will define the quadratic impact function and use the Q-learning method we have developed above to see what the optimal strategy is under quadratic permanent price impact and also try to recover the unknown parameter $\\theta_1$ and $\\theta_2$ if possible.\n",
    "\n",
    "Quadratic Permanent Price Impact Price Change Formula \n",
    "\n",
    "$P_t = P_{t-1} + \\epsilon_t + \\theta_1 S_t + \\theta_2 S_t^2 $\n",
    "\n",
    "As you can see from this formula, the $\\theta_1$ term is the term for the linear price impact and the $\\theta_2$ is the term for the quadratic price impact. Since we are dealing with quadratic term, we need to be really careful in choosing our $\\theta_2$ term as in our problem definition we are dealing in thousands of shares and thus the squared term can really affect the price of the share."
   ]
  },
  {
   "cell_type": "markdown",
   "metadata": {
    "colab_type": "text",
    "id": "xIMiaAPcxc8O"
   },
   "source": [
    "### (4.1) Synthetic Price Movements Generation for Quadratic Permanent Case\n",
    "\n",
    "In this section we will define a naive approach similiar to how to do it for the linear permanent price impact case and see how the price change when we sell shares at equal interval through the time allowed."
   ]
  },
  {
   "cell_type": "code",
   "execution_count": 0,
   "metadata": {
    "colab": {},
    "colab_type": "code",
    "id": "qii1I3mUxVIP"
   },
   "outputs": [],
   "source": [
    "# this is a helper function for naive solution\n",
    "def naive_solution(P_0, total_shares, theta1, theta2, T):\n",
    "    \n",
    "    cost = 0\n",
    "    \n",
    "    # initiailze P_t to be the initial price\n",
    "    s_t = (total_shares / T)\n",
    "    \n",
    "    P = [0] * T\n",
    "    P_t = P_0\n",
    "\n",
    "    for i in range(T):\n",
    "        # update the price of the stock base on the linear price impact model\n",
    "        noise = np.random.normal()\n",
    "        P_t = P_t + noise + -(theta1 * s_t + theta2 * s_t ** 2)\n",
    "        \n",
    "        # add the cost of purchasing 5000 shares\n",
    "        P[i] = P_t\n",
    "        cost += P_t * s_t\n",
    "    \n",
    "    cost_per_share = cost / total_shares\n",
    "    return cost_per_share, P"
   ]
  },
  {
   "cell_type": "code",
   "execution_count": 0,
   "metadata": {
    "colab": {},
    "colab_type": "code",
    "id": "x-o_1aPPyHDe"
   },
   "outputs": [],
   "source": [
    "# theta1 for the linear term of price impact\n",
    "theta1 = 1 * 10 ** -3\n",
    "\n",
    "# theta2 for the quad term  of price impact\n",
    "theta2 = 1 * 10 ** -6\n",
    "\n",
    "# learning rate\n",
    "alpha = 0.9\n",
    "\n",
    "# time period of our model\n",
    "T = 5\n",
    "\n",
    "# initial price of stock\n",
    "P_0 = 100\n",
    "\n",
    "# number of shares we want to sell\n",
    "total_shares = 5000\n",
    "\n",
    "num_stimuation = 10000\n",
    "costs_per_share = [0] * num_stimuation\n",
    "Ps = [0] * num_stimuation\n",
    "for j in range(num_stimuation):\n",
    "    cost, P = naive_solution(P_0, total_shares, theta1, theta2, T)\n",
    "    costs_per_share[j] = cost\n",
    "    Ps[j] = P"
   ]
  },
  {
   "cell_type": "code",
   "execution_count": 274,
   "metadata": {
    "colab": {
     "base_uri": "https://localhost:8080/",
     "height": 298
    },
    "colab_type": "code",
    "executionInfo": {
     "elapsed": 356,
     "status": "ok",
     "timestamp": 1557634338468,
     "user": {
      "displayName": "SHUN LIN",
      "photoUrl": "https://lh4.googleusercontent.com/-pkp40ccE7So/AAAAAAAAAAI/AAAAAAAAAU4/Upp1QcV6fHs/s64/photo.jpg",
      "userId": "16137932526864003348"
     },
     "user_tz": 420
    },
    "id": "Xvg4RupHyaFZ",
    "outputId": "7cc41a60-9222-4cd8-baba-c9e11edd5795"
   },
   "outputs": [
    {
     "data": {
      "image/png": "[encoded data removed]",
      "text/plain": [
       "<Figure size 432x288 with 1 Axes>"
      ]
     },
     "metadata": {
      "tags": []
     },
     "output_type": "display_data"
    },
    {
     "name": "stdout",
     "output_type": "stream",
     "text": [
      "The median reward per share is $93.99\n"
     ]
    }
   ],
   "source": [
    "plt.boxplot(costs_per_share)\n",
    "plt.title(\"reward per share using naive approach\")\n",
    "plt.ylabel(\"price\")\n",
    "plt.show()\n",
    "print(\"The median reward per share is $%.2f\" % np.median(costs_per_share))"
   ]
  },
  {
   "cell_type": "code",
   "execution_count": 275,
   "metadata": {
    "colab": {
     "base_uri": "https://localhost:8080/",
     "height": 295
    },
    "colab_type": "code",
    "executionInfo": {
     "elapsed": 914,
     "status": "ok",
     "timestamp": 1557634341918,
     "user": {
      "displayName": "SHUN LIN",
      "photoUrl": "https://lh4.googleusercontent.com/-pkp40ccE7So/AAAAAAAAAAI/AAAAAAAAAU4/Upp1QcV6fHs/s64/photo.jpg",
      "userId": "16137932526864003348"
     },
     "user_tz": 420
    },
    "id": "xu5HXVODywoT",
    "outputId": "ffc7985d-2690-476a-a748-496e49d68f22"
   },
   "outputs": [
    {
     "data": {
      "image/png": "[encoded data removed]",
      "text/plain": [
       "<Figure size 432x288 with 1 Axes>"
      ]
     },
     "metadata": {
      "tags": []
     },
     "output_type": "display_data"
    }
   ],
   "source": [
    "x = np.arange(0, 5)\n",
    "y = np.asarray(Ps[0:5])\n",
    "plt.plot(x, y.T)\n",
    "plt.xticks(np.arange(min(x), max(x)+1, 1.0))\n",
    "plt.title(\"Price of the stock in each time period\")\n",
    "plt.ylabel(\"Stock price\")\n",
    "plt.xlabel(\"time\")\n",
    "plt.show()"
   ]
  },
  {
   "cell_type": "markdown",
   "metadata": {
    "colab_type": "text",
    "id": "ZT64PyoW2OO_"
   },
   "source": [
    "As we can see from the figure above, the quadatric term have a really high impact on the price of the stock as the quadratic term will overwhelm the linear term (if $\\theta_2$ is too high) and will make the price decrease more than the one in the linear permanent price impact model."
   ]
  },
  {
   "cell_type": "markdown",
   "metadata": {
    "colab_type": "text",
    "id": "CXfQk1j2yZmM"
   },
   "source": [
    "### (4.2) Using Q-Learning Algorithm to solve the optimal strategy for quadratic impact case"
   ]
  },
  {
   "cell_type": "code",
   "execution_count": 293,
   "metadata": {
    "colab": {
     "base_uri": "https://localhost:8080/",
     "height": 34
    },
    "colab_type": "code",
    "executionInfo": {
     "elapsed": 51510,
     "status": "ok",
     "timestamp": 1557635270096,
     "user": {
      "displayName": "SHUN LIN",
      "photoUrl": "https://lh4.googleusercontent.com/-pkp40ccE7So/AAAAAAAAAAI/AAAAAAAAAU4/Upp1QcV6fHs/s64/photo.jpg",
      "userId": "16137932526864003348"
     },
     "user_tz": 420
    },
    "id": "rPNt5M0Ru1C4",
    "outputId": "a6fef031-fc51-4b43-c6ce-e5b92cc44164"
   },
   "outputs": [
    {
     "name": "stdout",
     "output_type": "stream",
     "text": [
      "The Q-learning for this problem takes 0 hours 0 minutes 50 seconds to compute using Google Colab GPU\n"
     ]
    }
   ],
   "source": [
    "# definnition of quadratic permanent price impact model\n",
    "def quad_permanent_impact(current_price, P_0, theta1, theta2, num_shares, path, t):\n",
    "  noise = np.random.normal()\n",
    "  s_t = num_shares * 1000\n",
    "  next_price = current_price + noise + -(theta1 * s_t + theta2 * s_t ** 2)\n",
    "  return next_price\n",
    "\n",
    "# learning rate\n",
    "alpha = 0.99\n",
    "\n",
    "# future reward discount rate\n",
    "# when gamma = 1.0 it means that the money we get from selling now\n",
    "# and selling later is the same, meaning there is no inflation\n",
    "# we can tune gamma if we believe that there is inflation\n",
    "# and we want to sell quicker instead of sell later\n",
    "gamma = 1.0\n",
    "\n",
    "# theta1 for the linear term of price impact\n",
    "theta1 = 1 * 10 ** -3\n",
    "\n",
    "# theta2 for the quad term  of price impact\n",
    "theta2 = 1 * 10 ** -7\n",
    "\n",
    "# time period of our model\n",
    "T = 5\n",
    "\n",
    "# initial price of stock\n",
    "P_0 = 1000\n",
    "\n",
    "# number of shares we want to sell\n",
    "total_shares = 10000\n",
    "\n",
    "# number of iteration we want to go through with Q learning\n",
    "num_iter = 100\n",
    "\n",
    "# use the linear permanent price impact model\n",
    "price_func = quad_permanent_impact\n",
    "\n",
    "# learn Q\n",
    "Q = Q_learning(total_shares, P_0, T, alpha, theta1 ,theta2, gamma, num_iter, price_func)"
   ]
  },
  {
   "cell_type": "code",
   "execution_count": 294,
   "metadata": {
    "colab": {
     "base_uri": "https://localhost:8080/",
     "height": 221
    },
    "colab_type": "code",
    "executionInfo": {
     "elapsed": 38927,
     "status": "ok",
     "timestamp": 1557635270099,
     "user": {
      "displayName": "SHUN LIN",
      "photoUrl": "https://lh4.googleusercontent.com/-pkp40ccE7So/AAAAAAAAAAI/AAAAAAAAAU4/Upp1QcV6fHs/s64/photo.jpg",
      "userId": "16137932526864003348"
     },
     "user_tz": 420
    },
    "id": "d9Gxl-41y2jE",
    "outputId": "2bc433eb-5bf0-4d96-d2a6-16078cb83e2a"
   },
   "outputs": [
    {
     "name": "stdout",
     "output_type": "stream",
     "text": [
      "====== Q-matrix analysis begin ======\n",
      "\n",
      "Have 5 time period to sell 10,000 shares.\n",
      "\n",
      "Optimal strategy based on the learned Q-matrix:\n",
      "at t=1 sell 2,000 shares\n",
      "at t=2 sell 2,000 shares\n",
      "at t=3 sell 2,000 shares\n",
      "at t=4 sell 2,000 shares\n",
      "at t=5 sell 2,000 shares\n",
      "\n",
      "====== Q-matrix analysis finish ======\n"
     ]
    }
   ],
   "source": [
    "Q_matrix_to_strategy(Q)"
   ]
  },
  {
   "cell_type": "markdown",
   "metadata": {
    "colab_type": "text",
    "id": "ilRbOUzW42SP"
   },
   "source": [
    "Interestingly, the optimal strategy under the quadratic permanent price impact assumption also give us the optimal strategy of selling shares with the same amount at each time step! As we can see from the cell output from above, the optimal strategy for selling 10,000 shares in 5 time period is to sell 2,000 shares in each of the time step. But this result may be due to how we have set our parameter $\\theta_1$ and $\\theta_2$. In the following section we will try other paremeters to see if we can get different results! If we get different result using different parameters this will mean that in quadratic permanent price impact model the parameters matter in terms of getting the optimal strategy."
   ]
  },
  {
   "cell_type": "code",
   "execution_count": 301,
   "metadata": {
    "colab": {
     "base_uri": "https://localhost:8080/",
     "height": 34
    },
    "colab_type": "code",
    "executionInfo": {
     "elapsed": 51570,
     "status": "ok",
     "timestamp": 1557636416265,
     "user": {
      "displayName": "SHUN LIN",
      "photoUrl": "https://lh4.googleusercontent.com/-pkp40ccE7So/AAAAAAAAAAI/AAAAAAAAAU4/Upp1QcV6fHs/s64/photo.jpg",
      "userId": "16137932526864003348"
     },
     "user_tz": 420
    },
    "id": "N5Bbtq9v-JGM",
    "outputId": "a7284a71-b996-420e-f402-f0c1360fed36"
   },
   "outputs": [
    {
     "name": "stdout",
     "output_type": "stream",
     "text": [
      "The Q-learning for this problem takes 0 hours 0 minutes 50 seconds to compute using Google Colab GPU\n"
     ]
    }
   ],
   "source": [
    "# learning rate\n",
    "alpha = 0.99\n",
    "\n",
    "# future reward discount rate\n",
    "# when gamma = 1.0 it means that the money we get from selling now\n",
    "# and selling later is the same, meaning there is no inflation\n",
    "# we can tune gamma if we believe that there is inflation\n",
    "# and we want to sell quicker instead of sell later\n",
    "gamma = 1.0\n",
    "\n",
    "# theta1 for the linear term of price impact\n",
    "theta1 = 1 * 10 ** -3\n",
    "\n",
    "# theta2 for the quad term  of price impact\n",
    "theta2 = 1 * 10 ** -6\n",
    "\n",
    "# time period of our model\n",
    "T = 5\n",
    "\n",
    "# initial price of stock\n",
    "P_0 = 1000\n",
    "\n",
    "# number of shares we want to sell\n",
    "total_shares = 10000\n",
    "\n",
    "# number of iteration we want to go through with Q learning\n",
    "num_iter = 100\n",
    "\n",
    "# use the linear permanent price impact model\n",
    "price_func = quad_permanent_impact\n",
    "\n",
    "# learn Q\n",
    "Q = Q_learning(total_shares, P_0, T, alpha, theta1 ,theta2, gamma, num_iter, price_func)"
   ]
  },
  {
   "cell_type": "code",
   "execution_count": 302,
   "metadata": {
    "colab": {
     "base_uri": "https://localhost:8080/",
     "height": 221
    },
    "colab_type": "code",
    "executionInfo": {
     "elapsed": 38098,
     "status": "ok",
     "timestamp": 1557636416268,
     "user": {
      "displayName": "SHUN LIN",
      "photoUrl": "https://lh4.googleusercontent.com/-pkp40ccE7So/AAAAAAAAAAI/AAAAAAAAAU4/Upp1QcV6fHs/s64/photo.jpg",
      "userId": "16137932526864003348"
     },
     "user_tz": 420
    },
    "id": "NH0Kf39YXMj5",
    "outputId": "bbd90f85-86fa-4c96-87e0-de75d2737096"
   },
   "outputs": [
    {
     "name": "stdout",
     "output_type": "stream",
     "text": [
      "====== Q-matrix analysis begin ======\n",
      "\n",
      "Have 5 time period to sell 10,000 shares.\n",
      "\n",
      "Optimal strategy based on the learned Q-matrix:\n",
      "at t=1 sell 1,000 shares\n",
      "at t=2 sell 2,000 shares\n",
      "at t=3 sell 2,000 shares\n",
      "at t=4 sell 2,000 shares\n",
      "at t=5 sell 3,000 shares\n",
      "\n",
      "====== Q-matrix analysis finish ======\n"
     ]
    }
   ],
   "source": [
    "Q_matrix_to_strategy(Q)"
   ]
  },
  {
   "cell_type": "markdown",
   "metadata": {
    "colab_type": "text",
    "id": "5Is0N0knXPnu"
   },
   "source": [
    "As we can see from the cell output from above, the optimal strategy of selling 10,000 shares across 5 time period is to sell 1,000 share in the first time step, sell 2,000 shares each in time 2 to 4, and then sell 3,000 shares in the last time step. This result is different than the one we have above because we have changed the value of $\\theta_2$ by a factor of 10. This example implies that the optimal strategy of selling shares under the quadratic permanent price impact model is dependent on the parameters we choose!"
   ]
  },
  {
   "cell_type": "markdown",
   "metadata": {
    "colab_type": "text",
    "id": "_LmuJgRKYa4h"
   },
   "source": [
    "### (4.3) More Examples using Q-learning on Quadratic Permanent Price Impact to test the optimal strategy\n",
    "\n",
    "In this section we are going to make more examples using the Q-learning on Quadratic temporary price impact to see if the optimal strategy for quadratic permanent price impact is the dependent on parameters and not necessary selling the same amount of shares at each time period."
   ]
  },
  {
   "cell_type": "code",
   "execution_count": 309,
   "metadata": {
    "colab": {
     "base_uri": "https://localhost:8080/",
     "height": 34
    },
    "colab_type": "code",
    "executionInfo": {
     "elapsed": 110049,
     "status": "ok",
     "timestamp": 1557637383005,
     "user": {
      "displayName": "SHUN LIN",
      "photoUrl": "https://lh4.googleusercontent.com/-pkp40ccE7So/AAAAAAAAAAI/AAAAAAAAAU4/Upp1QcV6fHs/s64/photo.jpg",
      "userId": "16137932526864003348"
     },
     "user_tz": 420
    },
    "id": "t2dw_ZnqYagP",
    "outputId": "56cf241d-472b-450d-98b5-0740ef5dc3da"
   },
   "outputs": [
    {
     "name": "stdout",
     "output_type": "stream",
     "text": [
      "The Q-learning for this problem takes 0 hours 1 minutes 48 seconds to compute using Google Colab GPU\n"
     ]
    }
   ],
   "source": [
    "# learning rate\n",
    "alpha = 0.99\n",
    "\n",
    "# future reward discount rate\n",
    "# when gamma = 1.0 it means that the money we get from selling now\n",
    "# and selling later is the same, meaning there is no inflation\n",
    "# we can tune gamma if we believe that there is inflation\n",
    "# and we want to sell quicker instead of sell later\n",
    "gamma = 1.0\n",
    "\n",
    "# theta1 for the linear term of price impact\n",
    "theta1 = 1 * 10 ** -3\n",
    "\n",
    "# theta2 for the quad term  of price impact\n",
    "theta2 = 1 * 10 ** -5\n",
    "\n",
    "# time period of our model\n",
    "T = 7\n",
    "\n",
    "# initial price of stock\n",
    "P_0 = 1000\n",
    "\n",
    "# number of shares we want to sell\n",
    "total_shares = 7000\n",
    "\n",
    "# number of iteration we want to go through with Q learning\n",
    "num_iter = 100\n",
    "\n",
    "# use the linear permanent price impact model\n",
    "price_func = quad_permanent_impact\n",
    "\n",
    "# learn Q\n",
    "Q = Q_learning(total_shares, P_0, T, alpha, theta1 ,theta2, gamma, num_iter, price_func)"
   ]
  },
  {
   "cell_type": "code",
   "execution_count": 313,
   "metadata": {
    "colab": {
     "base_uri": "https://localhost:8080/",
     "height": 255
    },
    "colab_type": "code",
    "executionInfo": {
     "elapsed": 500,
     "status": "ok",
     "timestamp": 1557637433219,
     "user": {
      "displayName": "SHUN LIN",
      "photoUrl": "https://lh4.googleusercontent.com/-pkp40ccE7So/AAAAAAAAAAI/AAAAAAAAAU4/Upp1QcV6fHs/s64/photo.jpg",
      "userId": "16137932526864003348"
     },
     "user_tz": 420
    },
    "id": "8IZRMMvwZQRn",
    "outputId": "3115d609-7d3b-4b43-d234-e696adde33dc"
   },
   "outputs": [
    {
     "name": "stdout",
     "output_type": "stream",
     "text": [
      "====== Q-matrix analysis begin ======\n",
      "\n",
      "Have 7 time period to sell 7,000 shares.\n",
      "\n",
      "Optimal strategy based on the learned Q-matrix:\n",
      "at t=1 sell 1,000 shares\n",
      "at t=2 sell 1,000 shares\n",
      "at t=3 sell 0,000 shares\n",
      "at t=4 sell 1,000 shares\n",
      "at t=5 sell 1,000 shares\n",
      "at t=6 sell 1,000 shares\n",
      "at t=7 sell 2,000 shares\n",
      "\n",
      "====== Q-matrix analysis finish ======\n"
     ]
    }
   ],
   "source": [
    "Q_matrix_to_strategy(Q)"
   ]
  },
  {
   "cell_type": "markdown",
   "metadata": {
    "colab_type": "text",
    "id": "W8olHb4mZVhQ"
   },
   "source": [
    "As we can see from the cell output from above, the optimal strategy of selling 7,000 shares in 7 time period is shown above. As we can see, the strategy is not to sell the same amoutn of stock at each time period, the Q-matrix tells us that we do not sell at time 3 and sell more at time 7. This is due to the quadratic effect of the price impact under this assumption. This example further tell us that the optimal strategy under quadratic permanent price impact assumption is dependent on the parameters we choose."
   ]
  },
  {
   "cell_type": "code",
   "execution_count": 314,
   "metadata": {
    "colab": {
     "base_uri": "https://localhost:8080/",
     "height": 34
    },
    "colab_type": "code",
    "executionInfo": {
     "elapsed": 226924,
     "status": "ok",
     "timestamp": 1557637667053,
     "user": {
      "displayName": "SHUN LIN",
      "photoUrl": "https://lh4.googleusercontent.com/-pkp40ccE7So/AAAAAAAAAAI/AAAAAAAAAU4/Upp1QcV6fHs/s64/photo.jpg",
      "userId": "16137932526864003348"
     },
     "user_tz": 420
    },
    "id": "n8Kns5eDZf2W",
    "outputId": "44ec67c2-4d8c-46b0-8865-fdd7e68ec0e8"
   },
   "outputs": [
    {
     "name": "stdout",
     "output_type": "stream",
     "text": [
      "The Q-learning for this problem takes 0 hours 3 minutes 45 seconds to compute using Google Colab GPU\n"
     ]
    }
   ],
   "source": [
    "# learning rate\n",
    "alpha = 0.99\n",
    "\n",
    "# future reward discount rate\n",
    "# when gamma = 1.0 it means that the money we get from selling now\n",
    "# and selling later is the same, meaning there is no inflation\n",
    "# we can tune gamma if we believe that there is inflation\n",
    "# and we want to sell quicker instead of sell later\n",
    "gamma = 1.0\n",
    "\n",
    "# theta1 for the linear term of price impact\n",
    "theta1 = 1 * 10 ** -3\n",
    "\n",
    "# theta2 for the quad term  of price impact\n",
    "theta2 = 1 * 10 ** -6\n",
    "\n",
    "# time period of our model\n",
    "T = 5\n",
    "\n",
    "# initial price of stock\n",
    "P_0 = 1000\n",
    "\n",
    "# number of shares we want to sell\n",
    "total_shares = 15000\n",
    "\n",
    "# number of iteration we want to go through with Q learning\n",
    "num_iter = 50\n",
    "\n",
    "# use the linear permanent price impact model\n",
    "price_func = quad_permanent_impact\n",
    "\n",
    "# learn Q\n",
    "Q = Q_learning(total_shares, P_0, T, alpha, theta1 ,theta2, gamma, num_iter, price_func)"
   ]
  },
  {
   "cell_type": "code",
   "execution_count": 315,
   "metadata": {
    "colab": {
     "base_uri": "https://localhost:8080/",
     "height": 221
    },
    "colab_type": "code",
    "executionInfo": {
     "elapsed": 226288,
     "status": "ok",
     "timestamp": 1557637667055,
     "user": {
      "displayName": "SHUN LIN",
      "photoUrl": "https://lh4.googleusercontent.com/-pkp40ccE7So/AAAAAAAAAAI/AAAAAAAAAU4/Upp1QcV6fHs/s64/photo.jpg",
      "userId": "16137932526864003348"
     },
     "user_tz": 420
    },
    "id": "yrAx9HowZumX",
    "outputId": "b2637c53-a811-4a59-9166-481c9e963cda"
   },
   "outputs": [
    {
     "name": "stdout",
     "output_type": "stream",
     "text": [
      "====== Q-matrix analysis begin ======\n",
      "\n",
      "Have 5 time period to sell 15,000 shares.\n",
      "\n",
      "Optimal strategy based on the learned Q-matrix:\n",
      "at t=1 sell 2,000 shares\n",
      "at t=2 sell 2,000 shares\n",
      "at t=3 sell 3,000 shares\n",
      "at t=4 sell 4,000 shares\n",
      "at t=5 sell 4,000 shares\n",
      "\n",
      "====== Q-matrix analysis finish ======\n"
     ]
    }
   ],
   "source": [
    "Q_matrix_to_strategy(Q)"
   ]
  },
  {
   "cell_type": "markdown",
   "metadata": {
    "colab_type": "text",
    "id": "vLqiqEm7Zv0V"
   },
   "source": [
    "As we can see from the cell output above, the optimal strategy of selling 15,000 shares in 5 time step is selling 2,000 shares in first and second time step, sell 3,000 shares in third time step, and sell 4,000 shares in the last 2 time steps. As we can see again from this example, the optimal strategy under the quadratic permanent price impact model is not selling the same amount of shares at each time period but sell them with different amount in each period, further tell us that the quadratic permanent price impact model is dependent on the parameters we choose!"
   ]
  },
  {
   "cell_type": "markdown",
   "metadata": {
    "colab_type": "text",
    "id": "rK7SP45lZxvn"
   },
   "source": [
    "### (4.4) Result of Using Q-learning on Quadratic Permanent Price Impact Model\n",
    "\n",
    "As we can see from the above, the Q-learning algorithm is able to allow us to find the optimal selling strategy (and with even more generalization to our algorithm we can also include the optimal buying strategy). The resulting optimal strategy of Q-learning on quadratic permanent price impact model tell us that the optimal strategy under the quadratic permanent price impact assumption is dependent on the parameters we choose. Sometimes the optimal strategy is to sell shares equally across the time steps that we have, other times it is selling different amount of shares at different time period. The result of this section is different from the linear permanent price impact model and quadratic temporary model because the permanent effect on the square of shares sold does have an impact on determine the optimal strategy. Very interesting and finally get to see a price impact that is parameter dependent!"
   ]
  },
  {
   "cell_type": "markdown",
   "metadata": {
    "colab_type": "text",
    "id": "XxQ-TWsx-P54"
   },
   "source": [
    "### (5) Q-Learning on Linear Transient Price Impact Model\n",
    "\n",
    "In this section we will explore how to use Q-learning on linear transient price impact model. Unlike the linear permanent price impact model case, the price of the share at time t is defined as the following:\n",
    "\n",
    "$P_t = P_0 + \\sum_{s=0}^{t}  \\epsilon_s + \\sum_{s=0}^{t} e^{\\alpha(s-t)} \\theta_1 S_t  $\n",
    "\n",
    "As we see from this case, the price impact of the shares we purchased further into the past will give exponentially less impact on the price on current time (we can see this in the last term of the equation above). This is more realistic as the price impact of the shares we sell more into the past should in practice have less impact on the price of the stock today compare to the price impact of the shares we just sell recently.\n",
    "\n",
    "To implement this, we need to keep track of the number of of shares we sell in each time step.\n"
   ]
  },
  {
   "cell_type": "markdown",
   "metadata": {
    "colab_type": "text",
    "id": "IGZMhN7ZdO7v"
   },
   "source": [
    "### (5.1) Synthetic Price Movements Generation for Linear Transient Price Impact Model\n",
    "\n",
    "In this section we will define a naive approach similiar to how to do it for the linear permanent price impact case and see how the price change when we sell shares at equal interval through the time allowed."
   ]
  },
  {
   "cell_type": "code",
   "execution_count": 0,
   "metadata": {
    "colab": {},
    "colab_type": "code",
    "id": "aDnhA8UtdWJC"
   },
   "outputs": [],
   "source": [
    "# this is a helper function for naive solution\n",
    "def naive_solution(P_0, total_shares, theta1, T):\n",
    "    \n",
    "    cost = 0\n",
    "    \n",
    "    # initiailze P_t to be the initial price\n",
    "    s_t = (total_shares / T)\n",
    "    \n",
    "    P = [0] * T\n",
    "    P_t = P_0\n",
    "    sum_noise = 0\n",
    "    decay = 0.3\n",
    "\n",
    "    for i in range(T):\n",
    "        # update the price of the stock base on the linear price impact model\n",
    "        sum_noise += np.random.normal()\n",
    "        sum_impact = -sum([np.exp(decay * -j)*theta1*s_t for j in range(i+1)])\n",
    "        P_t = P_0 + sum_noise + sum_impact\n",
    "        \n",
    "        # add the cost of purchasing 5000 shares\n",
    "        P[i] = P_t\n",
    "        cost += P_t * s_t\n",
    "    \n",
    "    cost_per_share = cost / total_shares\n",
    "    return cost_per_share, P"
   ]
  },
  {
   "cell_type": "code",
   "execution_count": 0,
   "metadata": {
    "colab": {},
    "colab_type": "code",
    "id": "xwlcQz0yfLR7"
   },
   "outputs": [],
   "source": [
    "# theta1 for the linear term of price impact\n",
    "theta1 = 2 * 10 ** -3\n",
    "\n",
    "# learning rate\n",
    "alpha = 0.9\n",
    "\n",
    "# time period of our model\n",
    "T = 10\n",
    "\n",
    "# initial price of stock\n",
    "P_0 = 100\n",
    "\n",
    "# number of shares we want to sell\n",
    "total_shares = 10000\n",
    "\n",
    "num_stimuation = 10000\n",
    "costs_per_share = [0] * num_stimuation\n",
    "Ps = [0] * num_stimuation\n",
    "for j in range(num_stimuation):\n",
    "    cost, P = naive_solution(P_0, total_shares, theta1, T)\n",
    "    costs_per_share[j] = cost\n",
    "    Ps[j] = P"
   ]
  },
  {
   "cell_type": "code",
   "execution_count": 379,
   "metadata": {
    "colab": {
     "base_uri": "https://localhost:8080/",
     "height": 298
    },
    "colab_type": "code",
    "executionInfo": {
     "elapsed": 1124,
     "status": "ok",
     "timestamp": 1557639319281,
     "user": {
      "displayName": "SHUN LIN",
      "photoUrl": "https://lh4.googleusercontent.com/-pkp40ccE7So/AAAAAAAAAAI/AAAAAAAAAU4/Upp1QcV6fHs/s64/photo.jpg",
      "userId": "16137932526864003348"
     },
     "user_tz": 420
    },
    "id": "V8ZjSW_NfRWi",
    "outputId": "a066db0e-1f27-41c1-ace7-18f55acb2d6b"
   },
   "outputs": [
    {
     "data": {
      "image/png": "[encoded data removed]",
      "text/plain": [
       "<Figure size 432x288 with 1 Axes>"
      ]
     },
     "metadata": {
      "tags": []
     },
     "output_type": "display_data"
    },
    {
     "name": "stdout",
     "output_type": "stream",
     "text": [
      "The median reward per share is $94.38\n"
     ]
    }
   ],
   "source": [
    "plt.boxplot(costs_per_share)\n",
    "plt.title(\"reward per share using naive approach\")\n",
    "plt.ylabel(\"price\")\n",
    "plt.show()\n",
    "print(\"The median reward per share is $%.2f\" % np.median(costs_per_share))"
   ]
  },
  {
   "cell_type": "code",
   "execution_count": 380,
   "metadata": {
    "colab": {
     "base_uri": "https://localhost:8080/",
     "height": 295
    },
    "colab_type": "code",
    "executionInfo": {
     "elapsed": 500,
     "status": "ok",
     "timestamp": 1557639320460,
     "user": {
      "displayName": "SHUN LIN",
      "photoUrl": "https://lh4.googleusercontent.com/-pkp40ccE7So/AAAAAAAAAAI/AAAAAAAAAU4/Upp1QcV6fHs/s64/photo.jpg",
      "userId": "16137932526864003348"
     },
     "user_tz": 420
    },
    "id": "b6bnIFJBfUzf",
    "outputId": "0988ac7e-d35b-4076-8295-9b3a82ddd1d1"
   },
   "outputs": [
    {
     "data": {
      "image/png": "[encoded data removed]",
      "text/plain": [
       "<Figure size 432x288 with 1 Axes>"
      ]
     },
     "metadata": {
      "tags": []
     },
     "output_type": "display_data"
    }
   ],
   "source": [
    "x = np.arange(0, 10)\n",
    "y = np.asarray(Ps[0:5])\n",
    "plt.plot(x, y.T)\n",
    "plt.xticks(np.arange(min(x), max(x)+1, 1.0))\n",
    "plt.title(\"Price of the stock in each time period\")\n",
    "plt.ylabel(\"Stock price\")\n",
    "plt.xlabel(\"time\")\n",
    "plt.show()"
   ]
  },
  {
   "cell_type": "markdown",
   "metadata": {
    "colab_type": "text",
    "id": "jWq2lYNTghE2"
   },
   "source": [
    "As we can see from the figure above, the decay prevent the price of the stock form falling as fast as in the linear permanent price impact model. But as we can still see from the graph above that the price is still dropping in a sub-linear way in the linear transcient price impact model. In the sections below we will be using Q-learning to try to find the optimal strategy under the linear transcient price impact model assumption."
   ]
  },
  {
   "cell_type": "markdown",
   "metadata": {
    "colab_type": "text",
    "id": "ugS_BnhbhqB9"
   },
   "source": [
    "### (5.2) Using Q-Learning Algorithm to solve the optimal strategy for linear transcient price impact model"
   ]
  },
  {
   "cell_type": "code",
   "execution_count": 459,
   "metadata": {
    "colab": {
     "base_uri": "https://localhost:8080/",
     "height": 34
    },
    "colab_type": "code",
    "executionInfo": {
     "elapsed": 2958,
     "status": "ok",
     "timestamp": 1557641628203,
     "user": {
      "displayName": "SHUN LIN",
      "photoUrl": "https://lh4.googleusercontent.com/-pkp40ccE7So/AAAAAAAAAAI/AAAAAAAAAU4/Upp1QcV6fHs/s64/photo.jpg",
      "userId": "16137932526864003348"
     },
     "user_tz": 420
    },
    "id": "JjloqiChhvMb",
    "outputId": "a754166d-1b9b-4436-bacd-22df6d2b05b2"
   },
   "outputs": [
    {
     "name": "stdout",
     "output_type": "stream",
     "text": [
      "The Q-learning for this problem takes 0 hours 0 minutes 2 seconds to compute using Google Colab GPU\n"
     ]
    }
   ],
   "source": [
    "# definnition of linear transicent price impact model\n",
    "# instead of theta2 we will use it as decay\n",
    "# in this function becaue we are doing linear transient\n",
    "# price impact model\n",
    "def linear_trans_impact(current_price, P_0, theta1, decay, num_shares, path, t):\n",
    "  sum_noise = sum([np.random.normal() for _ in range(t+1)])\n",
    "  shares_remaining = total_shares // 1000\n",
    "  sum_impact = 0\n",
    "  for s in range(t+1):\n",
    "    s_t = (shares_remaining - path[s]) * 1000\n",
    "    sum_impact -= np.exp(decay * (s-t)) * theta1 * s_t\n",
    "    shares_remaining = path[s]\n",
    "  next_price = P_0 + sum_noise + sum_impact\n",
    "  return next_price\n",
    "\n",
    "# learning rate\n",
    "alpha = 0.99\n",
    "\n",
    "# future reward discount rate\n",
    "# when gamma = 1.0 it means that the money we get from selling now\n",
    "# and selling later is the same, meaning there is no inflation\n",
    "# we can tune gamma if we believe that there is inflation\n",
    "# and we want to sell quicker instead of sell later\n",
    "gamma = 1.0\n",
    "\n",
    "# theta we trying to learn using RL\n",
    "theta1 = 5 * 10 ** -3\n",
    "\n",
    "# theta2 is renamed to decay because we are doing linear transcient model\n",
    "decay = 0.15\n",
    "\n",
    "# time period of our model\n",
    "T = 5\n",
    "\n",
    "# initial price of stock\n",
    "P_0 = 10000\n",
    "\n",
    "# number of shares we want to sell\n",
    "total_shares = 3000\n",
    "\n",
    "# number of iteration we want to go through with Q learning\n",
    "num_iter = 10000\n",
    "\n",
    "# use the linear permanent price impact model\n",
    "price_func = linear_trans_impact\n",
    "\n",
    "# learn Q\n",
    "Q = Q_learning(total_shares, P_0, T, alpha, theta1, decay, gamma, num_iter, price_func)"
   ]
  },
  {
   "cell_type": "code",
   "execution_count": 460,
   "metadata": {
    "colab": {
     "base_uri": "https://localhost:8080/",
     "height": 221
    },
    "colab_type": "code",
    "executionInfo": {
     "elapsed": 420,
     "status": "ok",
     "timestamp": 1557641631268,
     "user": {
      "displayName": "SHUN LIN",
      "photoUrl": "https://lh4.googleusercontent.com/-pkp40ccE7So/AAAAAAAAAAI/AAAAAAAAAU4/Upp1QcV6fHs/s64/photo.jpg",
      "userId": "16137932526864003348"
     },
     "user_tz": 420
    },
    "id": "TIpg3ytqkEr6",
    "outputId": "f1754f12-9ef8-4668-8b9a-f7c22fe9e889"
   },
   "outputs": [
    {
     "name": "stdout",
     "output_type": "stream",
     "text": [
      "====== Q-matrix analysis begin ======\n",
      "\n",
      "Have 5 time period to sell 3,000 shares.\n",
      "\n",
      "Optimal strategy based on the learned Q-matrix:\n",
      "at t=1 sell 1,000 shares\n",
      "at t=2 sell 0,000 shares\n",
      "at t=3 sell 0,000 shares\n",
      "at t=4 sell 1,000 shares\n",
      "at t=5 sell 1,000 shares\n",
      "\n",
      "====== Q-matrix analysis finish ======\n"
     ]
    }
   ],
   "source": [
    "Q_matrix_to_strategy(Q)"
   ]
  },
  {
   "cell_type": "markdown",
   "metadata": {
    "colab_type": "text",
    "id": "vUGnTRgFqTAI"
   },
   "source": [
    "As we can see from the cell output above, the optimal strategy is to sell some stocks in one period, wait some periods, and then sell more stocks. This optimal strategy makes sense as we want to wait out the impact made by the last purchase and then proceed to sell more shares. This optimal strategy is different from the linear permanent price impact model case and also different form the quadratic permanent and quadratic temporary price impact case. This result is very interesting as it shows how waiting out the time before selling other shares in the transient price impact model does help us achieve the best result and optimal strategy."
   ]
  },
  {
   "cell_type": "markdown",
   "metadata": {
    "colab_type": "text",
    "id": "-QRumVxmrmA-"
   },
   "source": [
    "\n",
    "### (4.3) More Examples using Q-learning on Linear Transicent Price Impact to test the optimal strategy\n",
    "​\n",
    "In this section we are going to make more examples using the Q-learning on Linear Transcient price impact to see if the optimal strategy for linear transicent price impact is the dependent on parameters and also see how the length of time affects the our optimal strategy achieved by the Q-learning algorithm."
   ]
  },
  {
   "cell_type": "code",
   "execution_count": 465,
   "metadata": {
    "colab": {
     "base_uri": "https://localhost:8080/",
     "height": 34
    },
    "colab_type": "code",
    "executionInfo": {
     "elapsed": 17149,
     "status": "ok",
     "timestamp": 1557642123956,
     "user": {
      "displayName": "SHUN LIN",
      "photoUrl": "https://lh4.googleusercontent.com/-pkp40ccE7So/AAAAAAAAAAI/AAAAAAAAAU4/Upp1QcV6fHs/s64/photo.jpg",
      "userId": "16137932526864003348"
     },
     "user_tz": 420
    },
    "id": "Fb_x5kGVsHtL",
    "outputId": "0fa81914-029e-4538-abf7-fe2057ed311f"
   },
   "outputs": [
    {
     "name": "stdout",
     "output_type": "stream",
     "text": [
      "The Q-learning for this problem takes 0 hours 0 minutes 16 seconds to compute using Google Colab GPU\n"
     ]
    }
   ],
   "source": [
    "# learning rate\n",
    "alpha = 0.99\n",
    "\n",
    "# future reward discount rate\n",
    "# when gamma = 1.0 it means that the money we get from selling now\n",
    "# and selling later is the same, meaning there is no inflation\n",
    "# we can tune gamma if we believe that there is inflation\n",
    "# and we want to sell quicker instead of sell later\n",
    "gamma = 1.0\n",
    "\n",
    "# theta we trying to learn using RL\n",
    "theta1 = 5 * 10 ** -2\n",
    "\n",
    "# theta2 is renamed to decay because we are doing linear transcient model\n",
    "decay = 0.40\n",
    "\n",
    "# time period of our model\n",
    "T = 5\n",
    "\n",
    "# initial price of stock\n",
    "P_0 = 10000\n",
    "\n",
    "# number of shares we want to sell\n",
    "total_shares = 6000\n",
    "\n",
    "# number of iteration we want to go through with Q learning\n",
    "num_iter = 100\n",
    "\n",
    "# use the linear permanent price impact model\n",
    "price_func = linear_trans_impact\n",
    "\n",
    "# learn Q\n",
    "Q = Q_learning(total_shares, P_0, T, alpha, theta1, decay, gamma, num_iter, price_func)"
   ]
  },
  {
   "cell_type": "code",
   "execution_count": 467,
   "metadata": {
    "colab": {
     "base_uri": "https://localhost:8080/",
     "height": 221
    },
    "colab_type": "code",
    "executionInfo": {
     "elapsed": 774,
     "status": "ok",
     "timestamp": 1557642131316,
     "user": {
      "displayName": "SHUN LIN",
      "photoUrl": "https://lh4.googleusercontent.com/-pkp40ccE7So/AAAAAAAAAAI/AAAAAAAAAU4/Upp1QcV6fHs/s64/photo.jpg",
      "userId": "16137932526864003348"
     },
     "user_tz": 420
    },
    "id": "XG1vh24RsORV",
    "outputId": "4ac5a972-d09c-40d0-e601-16f0da2307ec"
   },
   "outputs": [
    {
     "name": "stdout",
     "output_type": "stream",
     "text": [
      "====== Q-matrix analysis begin ======\n",
      "\n",
      "Have 5 time period to sell 6,000 shares.\n",
      "\n",
      "Optimal strategy based on the learned Q-matrix:\n",
      "at t=1 sell 1,000 shares\n",
      "at t=2 sell 1,000 shares\n",
      "at t=3 sell 1,000 shares\n",
      "at t=4 sell 1,000 shares\n",
      "at t=5 sell 2,000 shares\n",
      "\n",
      "====== Q-matrix analysis finish ======\n"
     ]
    }
   ],
   "source": [
    "Q_matrix_to_strategy(Q)"
   ]
  },
  {
   "cell_type": "markdown",
   "metadata": {
    "colab_type": "text",
    "id": "QQVnThPjsPZT"
   },
   "source": [
    "In the cell output above we can see that the optimal strategy of selling 6,000 shares in 5 time periods is to sell 1,000 shares each in the first 4 time period and then sell 2,000 shares in the last time period. This makes sense as the optimal strategy as you want to sell more shares later as to let time to offset some of the negative price impact due to earlier sale. This is interesting as we can see that the Q-learning model show us that in the presence of time decay and transicent price impact, we should sell more shares later instead of earlier but also spread out sale of shares through the time period to make sure that the price impact is also migated."
   ]
  },
  {
   "cell_type": "code",
   "execution_count": 494,
   "metadata": {
    "colab": {
     "base_uri": "https://localhost:8080/",
     "height": 34
    },
    "colab_type": "code",
    "executionInfo": {
     "elapsed": 28793,
     "status": "ok",
     "timestamp": 1557643382240,
     "user": {
      "displayName": "SHUN LIN",
      "photoUrl": "https://lh4.googleusercontent.com/-pkp40ccE7So/AAAAAAAAAAI/AAAAAAAAAU4/Upp1QcV6fHs/s64/photo.jpg",
      "userId": "16137932526864003348"
     },
     "user_tz": 420
    },
    "id": "xoMRx1MgsXl8",
    "outputId": "cebd2751-3306-490d-d395-71c9a591106e"
   },
   "outputs": [
    {
     "name": "stdout",
     "output_type": "stream",
     "text": [
      "The Q-learning for this problem takes 0 hours 0 minutes 28 seconds to compute using Google Colab GPU\n"
     ]
    }
   ],
   "source": [
    "# learning rate\n",
    "alpha = 0.99\n",
    "\n",
    "# future reward discount rate\n",
    "# when gamma = 1.0 it means that the money we get from selling now\n",
    "# and selling later is the same, meaning there is no inflation\n",
    "# we can tune gamma if we believe that there is inflation\n",
    "# and we want to sell quicker instead of sell later\n",
    "gamma = 1.0\n",
    "\n",
    "# theta we trying to learn using RL\n",
    "theta1 = 5 * 10 ** -2\n",
    "\n",
    "# theta2 is renamed to decay because we are doing linear transcient model\n",
    "decay = 0.50\n",
    "\n",
    "# time period of our model\n",
    "T = 5\n",
    "\n",
    "# initial price of stock\n",
    "P_0 = 1000\n",
    "\n",
    "# number of shares we want to sell\n",
    "total_shares = 7000\n",
    "\n",
    "# number of iteration we want to go through with Q learning\n",
    "num_iter = 20\n",
    "\n",
    "# use the linear permanent price impact model\n",
    "price_func = linear_trans_impact\n",
    "\n",
    "# learn Q\n",
    "Q = Q_learning(total_shares, P_0, T, alpha, theta1, decay, gamma, num_iter, price_func)"
   ]
  },
  {
   "cell_type": "code",
   "execution_count": 495,
   "metadata": {
    "colab": {
     "base_uri": "https://localhost:8080/",
     "height": 221
    },
    "colab_type": "code",
    "executionInfo": {
     "elapsed": 28229,
     "status": "ok",
     "timestamp": 1557643382243,
     "user": {
      "displayName": "SHUN LIN",
      "photoUrl": "https://lh4.googleusercontent.com/-pkp40ccE7So/AAAAAAAAAAI/AAAAAAAAAU4/Upp1QcV6fHs/s64/photo.jpg",
      "userId": "16137932526864003348"
     },
     "user_tz": 420
    },
    "id": "VHA0PdBjtKC6",
    "outputId": "80fd9667-52be-4543-daf7-bd46601c5f40"
   },
   "outputs": [
    {
     "name": "stdout",
     "output_type": "stream",
     "text": [
      "====== Q-matrix analysis begin ======\n",
      "\n",
      "Have 5 time period to sell 7,000 shares.\n",
      "\n",
      "Optimal strategy based on the learned Q-matrix:\n",
      "at t=1 sell 1,000 shares\n",
      "at t=2 sell 1,000 shares\n",
      "at t=3 sell 1,000 shares\n",
      "at t=4 sell 2,000 shares\n",
      "at t=5 sell 2,000 shares\n",
      "\n",
      "====== Q-matrix analysis finish ======\n"
     ]
    }
   ],
   "source": [
    "Q_matrix_to_strategy(Q)"
   ]
  },
  {
   "cell_type": "markdown",
   "metadata": {
    "colab_type": "text",
    "id": "v6XA6lPot_4V"
   },
   "source": [
    "In the cell output above we can see that the optimal strategy of selling 7,000 shares in 5 time periods is to sell 1,000 shares each in the first three time period and then sell 2,000 shares in the last two time period. This makes sense as the optimal strategy as you want to sell more shares later as to let time to offset some of the negative price impact due to earlier sale. Similiar to the example above where we sell 6,000 shares over 5 time periods, we can see that the Q-learning model show us that in the presence of time decay and transicent price impact, we should sell more shares later instead of earlier but also spread out sale of shares through the time period to make sure that the price impact is also migated."
   ]
  },
  {
   "cell_type": "markdown",
   "metadata": {
    "colab_type": "text",
    "id": "QEqA56_juHL3"
   },
   "source": [
    "### (5.4) Result of Using Q-learning on Linear Transcient Price Impact Model\n",
    "\n",
    "As we can see from the above, the Q-learning algorithm is able to allow us to find the optimal selling strategy (and with even more generalization to our algorithm we can also include the optimal buying strategy). The resulting optimal strategy of Q-learning on linear transcient price impact model tell us that the optimal strategy under the linear transcient price impact assumption is dependent on the parameters we choose and also that the strategy is to sell more shares at the end so to let time \"decays\" away the negative price impact due to earlier sale of our shaes. The result of this section is different from the linear permanent price impact model and quadratic temporary model because the the transicent and decaying factor we have taken into account into our linear transicent price impact model. Very interesting and finally get to see another price impact that is parameter dependent and also time dependent!"
   ]
  },
  {
   "cell_type": "markdown",
   "metadata": {
    "colab_type": "text",
    "id": "ZfvPcCQSyidB"
   },
   "source": [
    "## (6) Fun Experiments with Parameters!\n",
    "\n"
   ]
  },
  {
   "cell_type": "markdown",
   "metadata": {
    "colab_type": "text",
    "id": "jl1EulKlyrwT"
   },
   "source": [
    "In this experiment I want to see the affect of gamm, i.e. the discount rate, on linear permanent impact."
   ]
  },
  {
   "cell_type": "code",
   "execution_count": 504,
   "metadata": {
    "colab": {
     "base_uri": "https://localhost:8080/",
     "height": 34
    },
    "colab_type": "code",
    "executionInfo": {
     "elapsed": 5510,
     "status": "ok",
     "timestamp": 1557643778593,
     "user": {
      "displayName": "SHUN LIN",
      "photoUrl": "https://lh4.googleusercontent.com/-pkp40ccE7So/AAAAAAAAAAI/AAAAAAAAAU4/Upp1QcV6fHs/s64/photo.jpg",
      "userId": "16137932526864003348"
     },
     "user_tz": 420
    },
    "id": "OhmfajLHyi-y",
    "outputId": "b4acc5e2-c566-421c-de1c-b6427022c225"
   },
   "outputs": [
    {
     "name": "stdout",
     "output_type": "stream",
     "text": [
      "The Q-learning for this problem takes 0 hours 0 minutes 4 seconds to compute using Google Colab GPU\n"
     ]
    }
   ],
   "source": [
    "# definnition of linear permanent price impact model\n",
    "# we do not use theta2 in this function becaue we are doing linear permanent\n",
    "# price impact model\n",
    "def linear_permanent_impact(current_price, P_0, theta1, theta2, num_shares, path, t):\n",
    "  noise = np.random.normal()\n",
    "  next_price = current_price + noise + theta1 * -num_shares * 1000\n",
    "  return next_price\n",
    "\n",
    "# learning rate\n",
    "alpha = 0.99\n",
    "\n",
    "# future reward discount rate\n",
    "# when gamma = 1.0 it means that the money we get from selling now\n",
    "# and selling later is the same, meaning there is no inflation\n",
    "# we can tune gamma if we believe that there is inflation\n",
    "# and we want to sell quicker instead of sell later\n",
    "gamma = 0.97\n",
    "\n",
    "# theta we trying to learn using RL\n",
    "theta1 = 2 * 10 ** -3\n",
    "\n",
    "# theta2 is 0 because we are doing linear price impact\n",
    "theta2 = 0\n",
    "\n",
    "# time period of our model\n",
    "T = 5\n",
    "\n",
    "# initial price of stock\n",
    "P_0 = 100\n",
    "\n",
    "# number of shares we want to sell\n",
    "total_shares = 5000\n",
    "\n",
    "# number of iteration we want to go through with Q learning\n",
    "num_iter = 1000\n",
    "\n",
    "# use the linear permanent price impact model\n",
    "price_func = linear_permanent_impact\n",
    "\n",
    "# learn Q\n",
    "Q = Q_learning(total_shares, P_0, T, alpha, theta1, theta2, gamma, num_iter, price_func)"
   ]
  },
  {
   "cell_type": "code",
   "execution_count": 505,
   "metadata": {
    "colab": {
     "base_uri": "https://localhost:8080/",
     "height": 221
    },
    "colab_type": "code",
    "executionInfo": {
     "elapsed": 4970,
     "status": "ok",
     "timestamp": 1557643778596,
     "user": {
      "displayName": "SHUN LIN",
      "photoUrl": "https://lh4.googleusercontent.com/-pkp40ccE7So/AAAAAAAAAAI/AAAAAAAAAU4/Upp1QcV6fHs/s64/photo.jpg",
      "userId": "16137932526864003348"
     },
     "user_tz": 420
    },
    "id": "aujsVASOy0FS",
    "outputId": "59d60489-03c5-4164-bf4c-e1f6ca3ea4cd"
   },
   "outputs": [
    {
     "name": "stdout",
     "output_type": "stream",
     "text": [
      "====== Q-matrix analysis begin ======\n",
      "\n",
      "Have 5 time period to sell 5,000 shares.\n",
      "\n",
      "Optimal strategy based on the learned Q-matrix:\n",
      "at t=1 sell 3,000 shares\n",
      "at t=2 sell 2,000 shares\n",
      "at t=3 sell 0,000 shares\n",
      "at t=4 sell 0,000 shares\n",
      "at t=5 sell 0,000 shares\n",
      "\n",
      "====== Q-matrix analysis finish ======\n"
     ]
    }
   ],
   "source": [
    "Q_matrix_to_strategy(Q)"
   ]
  },
  {
   "cell_type": "markdown",
   "metadata": {
    "colab_type": "text",
    "id": "ck_F8Ms1y821"
   },
   "source": [
    "Interesting! As we can see from the cell output above, when we change the gamma (discount factor) to 0.97 we see that we want to sell everything at the first two time step. This makes sense as when gamma is less than 1 this means that the future reward worth less than the reward now, meaning that we would want to sell sooner rather than later. We can tune more parameters to play around and see what the optimal strategy will be."
   ]
  },
  {
   "cell_type": "code",
   "execution_count": 506,
   "metadata": {
    "colab": {
     "base_uri": "https://localhost:8080/",
     "height": 34
    },
    "colab_type": "code",
    "executionInfo": {
     "elapsed": 5354,
     "status": "ok",
     "timestamp": 1557643821205,
     "user": {
      "displayName": "SHUN LIN",
      "photoUrl": "https://lh4.googleusercontent.com/-pkp40ccE7So/AAAAAAAAAAI/AAAAAAAAAU4/Upp1QcV6fHs/s64/photo.jpg",
      "userId": "16137932526864003348"
     },
     "user_tz": 420
    },
    "id": "iKJ3-ojvzkD3",
    "outputId": "423a7aec-fc68-42bd-8d31-f3199fd767b6"
   },
   "outputs": [
    {
     "name": "stdout",
     "output_type": "stream",
     "text": [
      "The Q-learning for this problem takes 0 hours 0 minutes 4 seconds to compute using Google Colab GPU\n"
     ]
    }
   ],
   "source": [
    "# definnition of linear permanent price impact model\n",
    "# we do not use theta2 in this function becaue we are doing linear permanent\n",
    "# price impact model\n",
    "def linear_permanent_impact(current_price, P_0, theta1, theta2, num_shares, path, t):\n",
    "  noise = np.random.normal()\n",
    "  next_price = current_price + noise + theta1 * -num_shares * 1000\n",
    "  return next_price\n",
    "\n",
    "# learning rate\n",
    "alpha = 0.99\n",
    "\n",
    "# future reward discount rate\n",
    "# when gamma = 1.0 it means that the money we get from selling now\n",
    "# and selling later is the same, meaning there is no inflation\n",
    "# we can tune gamma if we believe that there is inflation\n",
    "# and we want to sell quicker instead of sell later\n",
    "gamma = 0.90\n",
    "\n",
    "# theta we trying to learn using RL\n",
    "theta1 = 2 * 10 ** -3\n",
    "\n",
    "# theta2 is 0 because we are doing linear price impact\n",
    "theta2 = 0\n",
    "\n",
    "# time period of our model\n",
    "T = 5\n",
    "\n",
    "# initial price of stock\n",
    "P_0 = 100\n",
    "\n",
    "# number of shares we want to sell\n",
    "total_shares = 5000\n",
    "\n",
    "# number of iteration we want to go through with Q learning\n",
    "num_iter = 1000\n",
    "\n",
    "# use the linear permanent price impact model\n",
    "price_func = linear_permanent_impact\n",
    "\n",
    "# learn Q\n",
    "Q = Q_learning(total_shares, P_0, T, alpha, theta1, theta2, gamma, num_iter, price_func)"
   ]
  },
  {
   "cell_type": "code",
   "execution_count": 507,
   "metadata": {
    "colab": {
     "base_uri": "https://localhost:8080/",
     "height": 221
    },
    "colab_type": "code",
    "executionInfo": {
     "elapsed": 336,
     "status": "ok",
     "timestamp": 1557643827371,
     "user": {
      "displayName": "SHUN LIN",
      "photoUrl": "https://lh4.googleusercontent.com/-pkp40ccE7So/AAAAAAAAAAI/AAAAAAAAAU4/Upp1QcV6fHs/s64/photo.jpg",
      "userId": "16137932526864003348"
     },
     "user_tz": 420
    },
    "id": "Czlnq_xjznUz",
    "outputId": "5a87d3d7-c038-49cb-d988-2065d80d9cf5"
   },
   "outputs": [
    {
     "name": "stdout",
     "output_type": "stream",
     "text": [
      "====== Q-matrix analysis begin ======\n",
      "\n",
      "Have 5 time period to sell 5,000 shares.\n",
      "\n",
      "Optimal strategy based on the learned Q-matrix:\n",
      "at t=1 sell 5,000 shares\n",
      "at t=2 sell 0,000 shares\n",
      "at t=3 sell 0,000 shares\n",
      "at t=4 sell 0,000 shares\n",
      "at t=5 sell 0,000 shares\n",
      "\n",
      "====== Q-matrix analysis finish ======\n"
     ]
    }
   ],
   "source": [
    "Q_matrix_to_strategy(Q)"
   ]
  },
  {
   "cell_type": "markdown",
   "metadata": {
    "colab_type": "text",
    "id": "Bxi3waJWzshS"
   },
   "source": [
    "Interesting! As we can see from the cell output above, when we change the gamma (discount factor) to 0.90 we see that we want to sell everything at the first time step! This makes sense as when gamma is less than 1 this means that the future reward worth less than the reward now, meaning that we would want to sell sooner rather than later."
   ]
  },
  {
   "cell_type": "markdown",
   "metadata": {
    "colab_type": "text",
    "id": "FrdKx4lO5Nee"
   },
   "source": [
    "# Lesson from this Project and Class\n",
    "\n",
    "I really enjoy this completing this project. Throughout the project I learned techniques of not just about financial engineering but also about programming and machine learning in general. I learned about Q-learning, price impact models, reinforcement learning, general data synthesis and analysis. This project allows me to further digest the knowledge I learned in class by coding up the algorithm and stratgies. Specifically, I learned how to recover the optimal strategy and theta from the unknown parameter using analysis on Q-matrix and the values stored in it.\n",
    "\n",
    "\n",
    "I also enjoy this class a lot. I really enjoy each lectures and sections as I learned new and chellenging materials each time I walked into class. I really enjoyed the theorical and mathematics concepts taught by Professor Basei and the high frequency trading application taught by Professor Guo. I really appreciate Nan for hosting section each week to clear up any hard to digest concepts taught by professors in class.\n",
    "\n",
    "\n",
    "Once again, I want to say thank you to Professor Guo, Professor Basei, and Nan for teaching me a lot about financial engineering and high frequency trading through IEOR 221 and IEOR 222.\n",
    "\n",
    "\n",
    "\n"
   ]
  },
  {
   "cell_type": "code",
   "execution_count": 0,
   "metadata": {
    "colab": {},
    "colab_type": "code",
    "id": "FIQhPG0P7b7i"
   },
   "outputs": [],
   "source": []
  }
 ],
 "metadata": {
  "accelerator": "GPU",
  "colab": {
   "collapsed_sections": [],
   "name": "IEOR 222 Final Project Shun Lin.ipynb",
   "provenance": [],
   "version": "0.3.2"
  },
  "kernelspec": {
   "display_name": "Python 3",
   "language": "python",
   "name": "python3"
  },
  "language_info": {
   "codemirror_mode": {
    "name": "ipython",
    "version": 3
   },
   "file_extension": ".py",
   "mimetype": "text/x-python",
   "name": "python",
   "nbconvert_exporter": "python",
   "pygments_lexer": "ipython3",
   "version": "3.7.2"
  }
 },
 "nbformat": 4,
 "nbformat_minor": 1
}
